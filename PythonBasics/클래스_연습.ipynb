{
 "cells": [
  {
   "cell_type": "markdown",
   "metadata": {},
   "source": [
    "# 클래스 연습 문제 \n",
    "___"
   ]
  },
  {
   "cell_type": "markdown",
   "metadata": {},
   "source": [
    "1. 다음과 같이 동작하는 클래스 Calculator를 작성해 보자\n",
    "```\n",
    ">>> cal1 = Calculator([1,2,3,4,5])\n",
    ">>> cal1.sum()\n",
    "15\n",
    ">>> cal1.avg()\n",
    "3.0\n",
    "```\n",
    "> __init__함수를 반드시 작성하시오.  \n",
    "> sum 메소드와 avg 메소드를 만들어야 한다."
   ]
  },
  {
   "cell_type": "code",
   "execution_count": null,
   "metadata": {},
   "outputs": [],
   "source": []
  }
 ],
 "metadata": {
  "kernelspec": {
   "display_name": "Python 3",
   "language": "python",
   "name": "python3"
  },
  "language_info": {
   "codemirror_mode": {
    "name": "ipython",
    "version": 3
   },
   "file_extension": ".py",
   "mimetype": "text/x-python",
   "name": "python",
   "nbconvert_exporter": "python",
   "pygments_lexer": "ipython3",
   "version": "3.7.1"
  }
 },
 "nbformat": 4,
 "nbformat_minor": 2
}
