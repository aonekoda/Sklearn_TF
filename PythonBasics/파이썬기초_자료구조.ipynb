{
 "cells": [
  {
   "cell_type": "markdown",
   "metadata": {
    "colab_type": "text",
    "id": "F8YVA_634OFk"
   },
   "source": [
    "# 파이썬 기초와 자료구조\n",
    "---\n",
    "파이썬 프로그래밍의 기초를 복습한다.\n",
    "\n",
    "\n",
    "화면에 문자열을 출력한다."
   ]
  },
  {
   "cell_type": "code",
   "execution_count": 12,
   "metadata": {
    "colab": {},
    "colab_type": "code",
    "id": "X9uIpOS2zx7k"
   },
   "outputs": [
    {
     "name": "stdout",
     "output_type": "stream",
     "text": [
      "Hello World\n"
     ]
    }
   ],
   "source": [
    "print(\"Hello World\")"
   ]
  },
  {
   "cell_type": "markdown",
   "metadata": {
    "colab_type": "text",
    "id": "wwJGmDrQ0EoB"
   },
   "source": [
    "## 함수, 조건문, 반복문\n",
    "\n",
    "함수를 생성해보고 반복문을 통해 함수를 호출해보자."
   ]
  },
  {
   "cell_type": "code",
   "execution_count": 13,
   "metadata": {
    "colab": {},
    "colab_type": "code",
    "id": "pRllo2HLfXiu"
   },
   "outputs": [
    {
     "name": "stdout",
     "output_type": "stream",
     "text": [
      "--- Now running with i: 8\n",
      "Hello World, x was < 10\n",
      "Result from HelloWorld: 16\n",
      "--- Now running with i: 13\n",
      "Hello World, x was >= 10 but < 20\n",
      "Result from HelloWorld: 26\n",
      "--- Now running with i: 18\n",
      "Hello World, x was >= 10 but < 20\n",
      "Result from HelloWorld: 36\n",
      "--- Now running with i: 23\n",
      "Hello World, x was >= 20\n",
      "Result from HelloWorld: 46\n"
     ]
    }
   ],
   "source": [
    "def HelloWorldXY(x, y):\n",
    "    if (x < 10):\n",
    "        print(\"Hello World, x was < 10\")\n",
    "    elif (x < 20):\n",
    "        print(\"Hello World, x was >= 10 but < 20\")\n",
    "    else:\n",
    "        print(\"Hello World, x was >= 20\")\n",
    "    return x + y\n",
    "\n",
    "for i in range(8, 25, 5):  # i=8, 13, 18, 23 (start, stop, step)\n",
    "    print(\"--- Now running with i: {}\".format(i))\n",
    "    r = HelloWorldXY(i,i)\n",
    "    print(\"Result from HelloWorld: {}\".format(r))"
   ]
  },
  {
   "cell_type": "code",
   "execution_count": 14,
   "metadata": {
    "colab": {},
    "colab_type": "code",
    "id": "lHNmDCh0JpVP"
   },
   "outputs": [
    {
     "name": "stdout",
     "output_type": "stream",
     "text": [
      "Hello World, x was < 10\n",
      "3\n"
     ]
    }
   ],
   "source": [
    "print(HelloWorldXY(1,2))"
   ]
  },
  {
   "cell_type": "markdown",
   "metadata": {
    "colab_type": "text",
    "id": "kiZG7uhm8qCF"
   },
   "source": [
    "다음과 같은 반복문의 예제를 보자."
   ]
  },
  {
   "cell_type": "code",
   "execution_count": 15,
   "metadata": {
    "colab": {},
    "colab_type": "code",
    "id": "m8YQN1H41L-Y"
   },
   "outputs": [
    {
     "name": "stdout",
     "output_type": "stream",
     "text": [
      "Iterate over the items. `range(2)` is like a list [0,1].\n",
      "0\n",
      "1\n",
      "Iterate over an actual list.\n",
      "0\n",
      "1\n",
      "While works\n",
      "0\n",
      "1\n"
     ]
    }
   ],
   "source": [
    "print(\"Iterate over the items. `range(2)` is like a list [0,1].\")\n",
    "for i in range(2):\n",
    "    print(i)\n",
    "\n",
    "print(\"Iterate over an actual list.\")\n",
    "for i in [0,1]:\n",
    "    print(i)\n",
    "\n",
    "print(\"While works\")\n",
    "i = 0\n",
    "while i < 2:\n",
    "    print(i)\n",
    "    i += 1"
   ]
  },
  {
   "cell_type": "code",
   "execution_count": 16,
   "metadata": {
    "colab": {},
    "colab_type": "code",
    "id": "vIgmFZq4zszl"
   },
   "outputs": [
    {
     "name": "stdout",
     "output_type": "stream",
     "text": [
      "Python supports standard key words like continue and break\n",
      "Entered while\n"
     ]
    }
   ],
   "source": [
    "print(\"Python supports standard key words like continue and break\")\n",
    "while True:\n",
    "    print(\"Entered while\")\n",
    "    break"
   ]
  },
  {
   "cell_type": "markdown",
   "metadata": {},
   "source": [
    "# 파이썬 자료 구조\n",
    "\n",
    "* list : 여러개의 값을 순서대로 하나로 모아서 관리하는 자료구조이다.\n",
    "* tuple : list와 유사한 구조. 원소를 변경하는 것이 불가능하다.\n",
    "* dictionary : key와 value의 쌍으로 자료를 관리한다.\n",
    "* set : 순서가 없고, 값의 중복을 허용하지 않는 자료구조이다."
   ]
  },
  {
   "cell_type": "markdown",
   "metadata": {},
   "source": [
    "### 리스트"
   ]
  },
  {
   "cell_type": "code",
   "execution_count": 17,
   "metadata": {},
   "outputs": [],
   "source": [
    "num_list =[0,1,2,3,4,5,6,7,8,9,10,11,12,13,14,15,16,17,18,19,20]"
   ]
  },
  {
   "cell_type": "code",
   "execution_count": 18,
   "metadata": {},
   "outputs": [
    {
     "data": {
      "text/plain": [
       "0"
      ]
     },
     "execution_count": 18,
     "metadata": {},
     "output_type": "execute_result"
    }
   ],
   "source": [
    "num_list[0] #=>0번index 원소조회"
   ]
  },
  {
   "cell_type": "code",
   "execution_count": 19,
   "metadata": {},
   "outputs": [
    {
     "data": {
      "text/plain": [
       "[1, 2, 3, 4, 5, 6, 7, 8, 9]"
      ]
     },
     "execution_count": 19,
     "metadata": {},
     "output_type": "execute_result"
    }
   ],
   "source": [
    "num_list[1 : 10] #> 1~9 index 원소들조회=> 끝index는포함되지않는다. "
   ]
  },
  {
   "cell_type": "code",
   "execution_count": 20,
   "metadata": {},
   "outputs": [
    {
     "data": {
      "text/plain": [
       "[0, 1, 2, 3, 4]"
      ]
     },
     "execution_count": 20,
     "metadata": {},
     "output_type": "execute_result"
    }
   ],
   "source": [
    "num_list[ : 5] #>시작이0번index일경우"
   ]
  },
  {
   "cell_type": "code",
   "execution_count": 21,
   "metadata": {},
   "outputs": [
    {
     "data": {
      "text/plain": [
       "[5, 6, 7, 8, 9, 10, 11, 12, 13, 14, 15, 16, 17, 18, 19, 20]"
      ]
     },
     "execution_count": 21,
     "metadata": {},
     "output_type": "execute_result"
    }
   ],
   "source": [
    "num_list[5 : ] #> 마지막index까지조회일경우"
   ]
  },
  {
   "cell_type": "code",
   "execution_count": 22,
   "metadata": {},
   "outputs": [
    {
     "ename": "IndexError",
     "evalue": "list index out of range",
     "output_type": "error",
     "traceback": [
      "\u001b[1;31m---------------------------------------------------------------------------\u001b[0m",
      "\u001b[1;31mIndexError\u001b[0m                                Traceback (most recent call last)",
      "\u001b[1;32m<ipython-input-22-ec548b7fa276>\u001b[0m in \u001b[0;36m<module>\u001b[1;34m\u001b[0m\n\u001b[1;32m----> 1\u001b[1;33m \u001b[0mnum_list\u001b[0m\u001b[1;33m[\u001b[0m\u001b[1;36m100\u001b[0m\u001b[1;33m]\u001b[0m \u001b[1;31m#>100번index 원소조회=> 없는index 조회시IndexError 발생\u001b[0m\u001b[1;33m\u001b[0m\u001b[1;33m\u001b[0m\u001b[0m\n\u001b[0m",
      "\u001b[1;31mIndexError\u001b[0m: list index out of range"
     ]
    }
   ],
   "source": [
    "num_list[100] #>100번index 원소조회=> 없는index 조회시IndexError 발생"
   ]
  },
  {
   "cell_type": "markdown",
   "metadata": {},
   "source": [
    "### 리스트 메소드"
   ]
  },
  {
   "cell_type": "code",
   "execution_count": 23,
   "metadata": {},
   "outputs": [
    {
     "name": "stdout",
     "output_type": "stream",
     "text": [
      "[1, 2, 3, 10, 20, 30]\n"
     ]
    }
   ],
   "source": [
    "num_list1 = [1, 2,3]\n",
    "num_list2 =[10,20,30]\n",
    "result = num_list1 +num_list2\n",
    "print(result)"
   ]
  },
  {
   "cell_type": "code",
   "execution_count": 24,
   "metadata": {},
   "outputs": [
    {
     "name": "stdout",
     "output_type": "stream",
     "text": [
      "[1, 2, 3, 1, 2, 3, 1, 2, 3]\n"
     ]
    }
   ],
   "source": [
    "a = [1, 2,3]\n",
    "b = a * 3\n",
    "print(b) #=>[1,2,3,1,2,3,1,2,3]"
   ]
  },
  {
   "cell_type": "code",
   "execution_count": 25,
   "metadata": {},
   "outputs": [
    {
     "name": "stdout",
     "output_type": "stream",
     "text": [
      "[1, 2, 3, [1, 2, 3]]\n"
     ]
    }
   ],
   "source": [
    "list = [1,2,3]\n",
    "list.append([1,2,3])\n",
    "print(list)"
   ]
  },
  {
   "cell_type": "code",
   "execution_count": 26,
   "metadata": {},
   "outputs": [
    {
     "name": "stdout",
     "output_type": "stream",
     "text": [
      "[1, 2, 3, [1, 2, 3], 'a', 'b', 'c']\n"
     ]
    }
   ],
   "source": [
    "list1 = ['a','b','c']\n",
    "\n",
    "list.extend(list1)\n",
    "print(list)"
   ]
  },
  {
   "cell_type": "code",
   "execution_count": 27,
   "metadata": {},
   "outputs": [
    {
     "name": "stdout",
     "output_type": "stream",
     "text": [
      "[64, 54, 45, 45, 9, 9, 5, 1]\n"
     ]
    }
   ],
   "source": [
    "list = [45,64,9,54,1,9,5,45]\n",
    "\n",
    "list.sort(reverse=True)\n",
    "print(list)"
   ]
  },
  {
   "cell_type": "code",
   "execution_count": 28,
   "metadata": {},
   "outputs": [
    {
     "name": "stdout",
     "output_type": "stream",
     "text": [
      "[1, 0, 2, 3]\n"
     ]
    }
   ],
   "source": [
    "list = [1,2,3]\n",
    "list.insert(1,0)\n",
    "print(list)"
   ]
  },
  {
   "cell_type": "code",
   "execution_count": 29,
   "metadata": {},
   "outputs": [
    {
     "name": "stdout",
     "output_type": "stream",
     "text": [
      "[1, 2, 3]\n"
     ]
    }
   ],
   "source": [
    "list.remove(0)\n",
    "print(list)"
   ]
  },
  {
   "cell_type": "code",
   "execution_count": 30,
   "metadata": {},
   "outputs": [
    {
     "data": {
      "text/plain": [
       "1"
      ]
     },
     "execution_count": 30,
     "metadata": {},
     "output_type": "execute_result"
    }
   ],
   "source": [
    "list = ['a','b','c']\n",
    "list.index('b')"
   ]
  },
  {
   "cell_type": "code",
   "execution_count": 31,
   "metadata": {},
   "outputs": [
    {
     "name": "stdout",
     "output_type": "stream",
     "text": [
      "a ['b', 'c']\n"
     ]
    }
   ],
   "source": [
    "list = ['a','b','c']\n",
    "x = list.pop(0)\n",
    "print(x, list)"
   ]
  },
  {
   "cell_type": "code",
   "execution_count": 32,
   "metadata": {},
   "outputs": [
    {
     "data": {
      "text/plain": [
       "3"
      ]
     },
     "execution_count": 32,
     "metadata": {},
     "output_type": "execute_result"
    }
   ],
   "source": [
    "list = ['a','b','c','b','b']\n",
    "list.count('b')"
   ]
  },
  {
   "cell_type": "code",
   "execution_count": 33,
   "metadata": {},
   "outputs": [
    {
     "name": "stdout",
     "output_type": "stream",
     "text": [
      "[]\n"
     ]
    }
   ],
   "source": [
    "list.clear()\n",
    "print(list)"
   ]
  },
  {
   "cell_type": "markdown",
   "metadata": {},
   "source": [
    "### 튜플"
   ]
  },
  {
   "cell_type": "code",
   "execution_count": 34,
   "metadata": {},
   "outputs": [
    {
     "data": {
      "text/plain": [
       "tuple"
      ]
     },
     "execution_count": 34,
     "metadata": {},
     "output_type": "execute_result"
    }
   ],
   "source": [
    "a = (1,2,3)\n",
    "type(a)"
   ]
  },
  {
   "cell_type": "code",
   "execution_count": 35,
   "metadata": {},
   "outputs": [
    {
     "data": {
      "text/plain": [
       "tuple"
      ]
     },
     "execution_count": 35,
     "metadata": {},
     "output_type": "execute_result"
    }
   ],
   "source": [
    "# 원소가 하나인 tuple생성 주의~\n",
    "a = (100,)\n",
    "type(a)"
   ]
  },
  {
   "cell_type": "code",
   "execution_count": 36,
   "metadata": {},
   "outputs": [
    {
     "data": {
      "text/plain": [
       "tuple"
      ]
     },
     "execution_count": 36,
     "metadata": {},
     "output_type": "execute_result"
    }
   ],
   "source": [
    "a = ['a','b','c']\n",
    "type(a)\n",
    "a = tuple(a)\n",
    "type(a)"
   ]
  },
  {
   "cell_type": "code",
   "execution_count": 37,
   "metadata": {},
   "outputs": [
    {
     "name": "stdout",
     "output_type": "stream",
     "text": [
      "1\n",
      "(1, 2, 3)\n",
      "(1, 2, 3, 4)\n",
      "(3, 4, 5, 6, 7, 8, 9)\n",
      "(1, 3, 5, 7, 9)\n"
     ]
    }
   ],
   "source": [
    "nums = (1,2,3,4,5,6,7,8,9)\n",
    "print(nums[0])\n",
    "print(nums[0:3])\n",
    "print(nums[:4])\n",
    "print(nums[2:])\n",
    "print(nums[::2])"
   ]
  },
  {
   "cell_type": "code",
   "execution_count": 38,
   "metadata": {},
   "outputs": [
    {
     "ename": "TypeError",
     "evalue": "'tuple' object does not support item assignment",
     "output_type": "error",
     "traceback": [
      "\u001b[1;31m---------------------------------------------------------------------------\u001b[0m",
      "\u001b[1;31mTypeError\u001b[0m                                 Traceback (most recent call last)",
      "\u001b[1;32m<ipython-input-38-389ba721ece2>\u001b[0m in \u001b[0;36m<module>\u001b[1;34m\u001b[0m\n\u001b[0;32m      1\u001b[0m \u001b[1;31m# 튜플은 변경불가 리스트와의 차이점~\u001b[0m\u001b[1;33m\u001b[0m\u001b[1;33m\u001b[0m\u001b[1;33m\u001b[0m\u001b[0m\n\u001b[1;32m----> 2\u001b[1;33m \u001b[0mnums\u001b[0m\u001b[1;33m[\u001b[0m\u001b[1;36m0\u001b[0m\u001b[1;33m]\u001b[0m \u001b[1;33m=\u001b[0m \u001b[1;34m'a'\u001b[0m\u001b[1;33m\u001b[0m\u001b[1;33m\u001b[0m\u001b[0m\n\u001b[0m",
      "\u001b[1;31mTypeError\u001b[0m: 'tuple' object does not support item assignment"
     ]
    }
   ],
   "source": [
    "# 튜플은 변경불가 리스트와의 차이점~\n",
    "nums[0] = 'a'"
   ]
  },
  {
   "cell_type": "code",
   "execution_count": 39,
   "metadata": {},
   "outputs": [
    {
     "data": {
      "text/plain": [
       "('a', 'b', 'c', 'a', 'b', 'c')"
      ]
     },
     "execution_count": 39,
     "metadata": {},
     "output_type": "execute_result"
    }
   ],
   "source": [
    "# 튜플 더하기 곱하기\n",
    "a = ('a','b','c')\n",
    "a * 2"
   ]
  },
  {
   "cell_type": "code",
   "execution_count": 40,
   "metadata": {},
   "outputs": [
    {
     "data": {
      "text/plain": [
       "1"
      ]
     },
     "execution_count": 40,
     "metadata": {},
     "output_type": "execute_result"
    }
   ],
   "source": [
    "# 튜플 메소드\n",
    "a = ('a','b','c')\n",
    "a.index('b')\n",
    "a.count('b')"
   ]
  },
  {
   "cell_type": "markdown",
   "metadata": {},
   "source": [
    "### 딕셔너리"
   ]
  },
  {
   "cell_type": "code",
   "execution_count": 41,
   "metadata": {},
   "outputs": [
    {
     "name": "stdout",
     "output_type": "stream",
     "text": [
      "도쿄\n",
      "{'한국': '서울', '미국': '워싱턴', '일본': '도쿄', '중국': '북경'}\n",
      "{'한국': '서울', '미국': '워싱턴', '일본': '동경', '중국': '북경'}\n"
     ]
    }
   ],
   "source": [
    "a = {'한국':'서울','미국':'워싱턴','일본':'도쿄'}\n",
    "\n",
    "print(a['일본'])\n",
    "\n",
    "a['중국']='북경'\n",
    "print(a)\n",
    "\n",
    "a['일본']='동경'\n",
    "print(a)"
   ]
  },
  {
   "cell_type": "code",
   "execution_count": 42,
   "metadata": {},
   "outputs": [
    {
     "name": "stdout",
     "output_type": "stream",
     "text": [
      "{'한국': '서울', '미국': '워싱턴', '일본': '도쿄'}\n",
      "{'한국': '서울', '미국': '워싱턴'}\n",
      "도쿄\n"
     ]
    }
   ],
   "source": [
    "a = {'한국':'서울','미국':'워싱턴','일본':'도쿄'}\n",
    "print(a)\n",
    "\n",
    "x = a.pop('일본')\n",
    "print(a)\n",
    "print(x)"
   ]
  },
  {
   "cell_type": "code",
   "execution_count": 43,
   "metadata": {},
   "outputs": [
    {
     "name": "stdout",
     "output_type": "stream",
     "text": [
      "dict_items([('한국', '서울'), ('미국', '워싱턴'), ('일본', '도쿄')])\n",
      "dict_keys(['한국', '미국', '일본'])\n",
      "dict_values(['서울', '워싱턴', '도쿄'])\n",
      "워싱턴\n"
     ]
    }
   ],
   "source": [
    "a = {'한국':'서울','미국':'워싱턴','일본':'도쿄'}\n",
    "print(a.items())\n",
    "print(a.keys())\n",
    "print(a.values())\n",
    "print(a.get('미국'))"
   ]
  },
  {
   "cell_type": "markdown",
   "metadata": {},
   "source": [
    "### 집합 set"
   ]
  },
  {
   "cell_type": "code",
   "execution_count": 44,
   "metadata": {},
   "outputs": [],
   "source": [
    "set1 = { 1, 2, 3, 4,5}\n",
    "set2 = {1, 2, 2, 2,3}\n",
    "set3 = set([1, 2, 3, 3, 4, 4, 4, 5, 5,5])\n",
    "set4 = set((1, 2, 3, 3, 4, 5,5))\n",
    "set5 = set({'a':1, 'b':2,'c':3})"
   ]
  },
  {
   "cell_type": "code",
   "execution_count": 45,
   "metadata": {},
   "outputs": [
    {
     "ename": "TypeError",
     "evalue": "'set' object does not support indexing",
     "output_type": "error",
     "traceback": [
      "\u001b[1;31m---------------------------------------------------------------------------\u001b[0m",
      "\u001b[1;31mTypeError\u001b[0m                                 Traceback (most recent call last)",
      "\u001b[1;32m<ipython-input-45-8738134ccb87>\u001b[0m in \u001b[0;36m<module>\u001b[1;34m\u001b[0m\n\u001b[0;32m      3\u001b[0m \u001b[0ma\u001b[0m \u001b[1;33m=\u001b[0m \u001b[1;33m{\u001b[0m\u001b[1;36m1\u001b[0m\u001b[1;33m,\u001b[0m\u001b[1;36m2\u001b[0m\u001b[1;33m,\u001b[0m\u001b[1;36m3\u001b[0m\u001b[1;33m,\u001b[0m\u001b[1;36m3\u001b[0m\u001b[1;33m,\u001b[0m\u001b[1;36m3\u001b[0m\u001b[1;33m,\u001b[0m\u001b[1;36m4\u001b[0m\u001b[1;33m,\u001b[0m\u001b[1;36m5\u001b[0m\u001b[1;33m,\u001b[0m\u001b[1;36m6\u001b[0m\u001b[1;33m}\u001b[0m\u001b[1;33m\u001b[0m\u001b[1;33m\u001b[0m\u001b[0m\n\u001b[0;32m      4\u001b[0m \u001b[1;33m\u001b[0m\u001b[0m\n\u001b[1;32m----> 5\u001b[1;33m \u001b[0mprint\u001b[0m\u001b[1;33m(\u001b[0m\u001b[0ma\u001b[0m\u001b[1;33m[\u001b[0m\u001b[1;36m0\u001b[0m\u001b[1;33m]\u001b[0m\u001b[1;33m)\u001b[0m\u001b[1;33m\u001b[0m\u001b[1;33m\u001b[0m\u001b[0m\n\u001b[0m",
      "\u001b[1;31mTypeError\u001b[0m: 'set' object does not support indexing"
     ]
    }
   ],
   "source": [
    "#집합은 중복허용 않는다. 순서가 없다.(index사용못함)\n",
    "\n",
    "a = {1,2,3,3,3,4,5,6}\n",
    "\n",
    "print(a[0])"
   ]
  },
  {
   "cell_type": "code",
   "execution_count": 46,
   "metadata": {},
   "outputs": [
    {
     "data": {
      "text/plain": [
       "{1, 2, 3}"
      ]
     },
     "execution_count": 46,
     "metadata": {},
     "output_type": "execute_result"
    }
   ],
   "source": [
    "# set함수 사용\n",
    "\n",
    "a = {1:'a',2:'b',3:'c'}\n",
    "\n",
    "set(a)"
   ]
  },
  {
   "cell_type": "code",
   "execution_count": 47,
   "metadata": {},
   "outputs": [
    {
     "name": "stdout",
     "output_type": "stream",
     "text": [
      "{1, 2, 3, 4}\n",
      "{1, 2, 3, 4, 5, 6}\n",
      "{1, 2, 3, 5, 6}\n",
      "{2, 3, 5, 6}\n"
     ]
    }
   ],
   "source": [
    "a = {1,2,3}\n",
    "\n",
    "a.add(4)\n",
    "print(a)\n",
    "\n",
    "a.update([4,5,6])\n",
    "print(a)\n",
    "\n",
    "a.remove(4)\n",
    "print(a)\n",
    "\n",
    "a.pop()\n",
    "print(a)"
   ]
  }
 ],
 "metadata": {
  "accelerator": "GPU",
  "colab": {
   "collapsed_sections": [],
   "name": "Introduction to Colab and Python",
   "private_outputs": true,
   "provenance": [],
   "toc_visible": true,
   "version": "0.3.2"
  },
  "kernelspec": {
   "display_name": "Python 3",
   "language": "python",
   "name": "python3"
  },
  "language_info": {
   "codemirror_mode": {
    "name": "ipython",
    "version": 3
   },
   "file_extension": ".py",
   "mimetype": "text/x-python",
   "name": "python",
   "nbconvert_exporter": "python",
   "pygments_lexer": "ipython3",
   "version": "3.6.9"
  }
 },
 "nbformat": 4,
 "nbformat_minor": 1
}
