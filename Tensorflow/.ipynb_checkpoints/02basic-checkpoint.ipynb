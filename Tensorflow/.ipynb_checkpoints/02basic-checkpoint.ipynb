{
 "cells": [
  {
   "cell_type": "markdown",
   "metadata": {},
   "source": [
    "# 랭크와 텐서\n",
    "\n",
    "* **텐서** : 데이터를 담고 있는 다차원 배열\n",
    "* **랭크** : 텐서의 차원\n",
    "\n",
    "scalar는 랭크 0인 텐서이다. 벡터는 랭크 1인 텐서이다. 행렬은 랭크 2인 텐서이다. 텐서 표기는 더 고차원으로 일반화 될 수 있다. "
   ]
  },
  {
   "cell_type": "code",
   "execution_count": 1,
   "metadata": {},
   "outputs": [],
   "source": [
    "import tensorflow as tf\n",
    "import numpy as np"
   ]
  },
  {
   "cell_type": "code",
   "execution_count": 2,
   "metadata": {},
   "outputs": [],
   "source": [
    "tf.enable_eager_execution() # 즉시 실행 모드"
   ]
  },
  {
   "cell_type": "markdown",
   "metadata": {},
   "source": [
    " ### 텐서의 랭크와 크기 확인"
   ]
  },
  {
   "cell_type": "code",
   "execution_count": 3,
   "metadata": {},
   "outputs": [
    {
     "name": "stdout",
     "output_type": "stream",
     "text": [
      "크기: () (4,) (2, 2)\n",
      "랭크: 0 1 2\n"
     ]
    }
   ],
   "source": [
    "## t1, t2, t3 텐서를 정의합니다.\n",
    "t1 = tf.constant(np.pi)\n",
    "t2 = tf.constant([1, 2, 3, 4])\n",
    "t3 = tf.constant([[1, 2], [3, 4]])\n",
    "\n",
    "## 랭크를 구합니다.\n",
    "r1 = tf.rank(t1)\n",
    "r2 = tf.rank(t2)\n",
    "r3 = tf.rank(t3)\n",
    "\n",
    "## 크기를 구합니다\n",
    "s1 = t1.get_shape()\n",
    "s2 = t2.get_shape()\n",
    "s3 = t3.get_shape()\n",
    "print('크기:', s1, s2, s3)\n",
    "\n",
    "print('랭크:', \n",
    "      r1.numpy(), \n",
    "      r2.numpy(), \n",
    "      r3.numpy())"
   ]
  },
  {
   "cell_type": "markdown",
   "metadata": {},
   "source": [
    "### 텐서를 다차원 배열로 변환하기"
   ]
  },
  {
   "cell_type": "code",
   "execution_count": 4,
   "metadata": {},
   "outputs": [
    {
     "name": "stdout",
     "output_type": "stream",
     "text": [
      "tf.Tensor(\n",
      "[[1.  2.  3.  3.5]\n",
      " [4.  5.  6.  6.5]\n",
      " [7.  8.  9.  9.5]], shape=(3, 4), dtype=float64)\n",
      "T1의 크기: (3, 4)\n",
      "T1의 크기: (3, 4)\n",
      "<tf.Variable 'Variable:0' shape=(3, 4) dtype=float64, numpy=\n",
      "array([[ 0.29425794,  0.95424016, -1.15157784,  0.45991922],\n",
      "       [ 0.4673932 ,  0.60144748,  1.19034965, -0.65349688],\n",
      "       [ 0.02614895, -0.94923207,  0.9010413 , -0.56236507]])>\n",
      "<tf.Variable 'Variable:0' shape=(3,) dtype=float64, numpy=array([-0.23032759,  1.62434603,  1.63739992])>\n"
     ]
    }
   ],
   "source": [
    "arr = np.array([[1., 2., 3., 3.5],\n",
    "                [4., 5., 6., 6.5],\n",
    "                [7., 8., 9., 9.5]])\n",
    "T1 = tf.constant(arr)\n",
    "print(T1)\n",
    "s = T1.get_shape()\n",
    "print('T1의 크기:', s)\n",
    "print('T1의 크기:', T1.shape)\n",
    "T2 = tf.Variable(np.random.normal(size=s))\n",
    "print(T2)\n",
    "T3 = tf.Variable(np.random.normal(size=s[0]))\n",
    "print(T3)"
   ]
  },
  {
   "cell_type": "markdown",
   "metadata": {},
   "source": [
    "#### 텐서의 크기 변경"
   ]
  },
  {
   "cell_type": "code",
   "execution_count": 5,
   "metadata": {},
   "outputs": [
    {
     "name": "stdout",
     "output_type": "stream",
     "text": [
      "tf.Tensor([[[1.  2.  3.  3.5 4.  5.  6.  6.5 7.  8.  9.  9.5]]], shape=(1, 1, 12), dtype=float64)\n",
      "tf.Tensor(\n",
      "[[[1.  2.  3.  3.5]\n",
      "  [4.  5.  6.  6.5]\n",
      "  [7.  8.  9.  9.5]]], shape=(1, 3, 4), dtype=float64)\n"
     ]
    }
   ],
   "source": [
    "T4 = tf.reshape(T1, shape=[1, 1, -1])\n",
    "print(T4)\n",
    "T5 = tf.reshape(T1, shape=[1, 3, -1])\n",
    "print(T5)"
   ]
  },
  {
   "cell_type": "markdown",
   "metadata": {},
   "source": [
    "#### transpose"
   ]
  },
  {
   "cell_type": "code",
   "execution_count": 6,
   "metadata": {},
   "outputs": [
    {
     "name": "stdout",
     "output_type": "stream",
     "text": [
      "tf.Tensor(\n",
      "[[[1. ]\n",
      "  [4. ]\n",
      "  [7. ]]\n",
      "\n",
      " [[2. ]\n",
      "  [5. ]\n",
      "  [8. ]]\n",
      "\n",
      " [[3. ]\n",
      "  [6. ]\n",
      "  [9. ]]\n",
      "\n",
      " [[3.5]\n",
      "  [6.5]\n",
      "  [9.5]]], shape=(4, 3, 1), dtype=float64)\n",
      "tf.Tensor(\n",
      "[[[1.  4.  7. ]\n",
      "  [2.  5.  8. ]\n",
      "  [3.  6.  9. ]\n",
      "  [3.5 6.5 9.5]]], shape=(1, 4, 3), dtype=float64)\n"
     ]
    }
   ],
   "source": [
    "T6 = tf.transpose(T5, perm=[2, 1, 0])\n",
    "print(T6)\n",
    "T7 = tf.transpose(T5, perm=[0, 2, 1])\n",
    "print(T7)"
   ]
  },
  {
   "cell_type": "markdown",
   "metadata": {},
   "source": [
    "#### 텐서 나누기"
   ]
  },
  {
   "cell_type": "code",
   "execution_count": 7,
   "metadata": {},
   "outputs": [
    {
     "name": "stdout",
     "output_type": "stream",
     "text": [
      "[<tf.Tensor: id=46, shape=(1, 3, 2), dtype=float64, numpy=\n",
      "array([[[1., 2.],\n",
      "        [4., 5.],\n",
      "        [7., 8.]]])>, <tf.Tensor: id=47, shape=(1, 3, 2), dtype=float64, numpy=\n",
      "array([[[3. , 3.5],\n",
      "        [6. , 6.5],\n",
      "        [9. , 9.5]]])>]\n"
     ]
    }
   ],
   "source": [
    "t5_splt = tf.split(T5, \n",
    "                   num_or_size_splits=2, \n",
    "                   axis=2)\n",
    "print(t5_splt)"
   ]
  },
  {
   "cell_type": "markdown",
   "metadata": {},
   "source": [
    "#### 텐서 연결"
   ]
  },
  {
   "cell_type": "code",
   "execution_count": 8,
   "metadata": {},
   "outputs": [
    {
     "name": "stdout",
     "output_type": "stream",
     "text": [
      "tf.Tensor(\n",
      "[[1.]\n",
      " [1.]\n",
      " [1.]\n",
      " [1.]\n",
      " [1.]], shape=(5, 1), dtype=float32)\n",
      "tf.Tensor(\n",
      "[[0.]\n",
      " [0.]\n",
      " [0.]\n",
      " [0.]\n",
      " [0.]], shape=(5, 1), dtype=float32)\n",
      "tf.Tensor(\n",
      "[[1.]\n",
      " [1.]\n",
      " [1.]\n",
      " [1.]\n",
      " [1.]\n",
      " [0.]\n",
      " [0.]\n",
      " [0.]\n",
      " [0.]\n",
      " [0.]], shape=(10, 1), dtype=float32)\n",
      "tf.Tensor(\n",
      "[[1. 0.]\n",
      " [1. 0.]\n",
      " [1. 0.]\n",
      " [1. 0.]\n",
      " [1. 0.]], shape=(5, 2), dtype=float32)\n"
     ]
    }
   ],
   "source": [
    "t1 = tf.ones(shape=(5, 1), dtype=tf.float32)\n",
    "t2 = tf.zeros(shape=(5, 1), dtype=tf.float32)\n",
    "print(t1)\n",
    "print(t2)\n",
    "\n",
    "t3 = tf.concat([t1, t2], axis=0)\n",
    "print(t3)\n",
    "t4 = tf.concat([t1, t2], axis=1)\n",
    "print(t4)"
   ]
  },
  {
   "cell_type": "markdown",
   "metadata": {},
   "source": [
    "# 텐서 배열의 구조 다루기"
   ]
  },
  {
   "cell_type": "code",
   "execution_count": 9,
   "metadata": {},
   "outputs": [
    {
     "name": "stdout",
     "output_type": "stream",
     "text": [
      "1.12.0\n",
      "True\n"
     ]
    }
   ],
   "source": [
    "print(tf.__version__)\n",
    "print(tf.executing_eagerly())"
   ]
  },
  {
   "cell_type": "code",
   "execution_count": 10,
   "metadata": {},
   "outputs": [
    {
     "name": "stdout",
     "output_type": "stream",
     "text": [
      "x= 1.0 --> z= 2.7\n",
      "x= 0.6 --> z= 1.9\n",
      "x=-1.8 --> z=-2.9\n"
     ]
    }
   ],
   "source": [
    "w = tf.Variable(2.0, name='w')\n",
    "b = tf.Variable(0.7, name='b')\n",
    "\n",
    "for x in [1.0, 0.6, -1.8] :\n",
    "    z = w*x + b\n",
    "    print('x=%4.1f --> z=%4.1f'%(x, z))\n"
   ]
  },
  {
   "cell_type": "code",
   "execution_count": 11,
   "metadata": {},
   "outputs": [],
   "source": [
    "import numpy as np"
   ]
  },
  {
   "cell_type": "code",
   "execution_count": 12,
   "metadata": {},
   "outputs": [],
   "source": [
    "x_arr = np.arange(18).reshape(3,2,3)\n",
    "x2 = tf.reshape(x_arr, shape=(-1,6))"
   ]
  },
  {
   "cell_type": "code",
   "execution_count": 13,
   "metadata": {},
   "outputs": [],
   "source": [
    "# 각 열의 합을 계산\n",
    "xsum = tf.reduce_sum(x2, axis=0)\n",
    "# 각 열의 평균을 계산\n",
    "xmean = tf.reduce_mean(x2, axis=0)"
   ]
  },
  {
   "cell_type": "code",
   "execution_count": 14,
   "metadata": {},
   "outputs": [
    {
     "name": "stdout",
     "output_type": "stream",
     "text": [
      "x_array 크기 :  (3, 2, 3)\n",
      "크기 변형 : \n",
      " [[ 0  1  2  3  4  5]\n",
      " [ 6  7  8  9 10 11]\n",
      " [12 13 14 15 16 17]]\n",
      "열의 합 :  [18 21 24 27 30 33]\n",
      "열의 평균 :  [ 6  7  8  9 10 11]\n"
     ]
    }
   ],
   "source": [
    "print('x_array 크기 : ', x_arr.shape)\n",
    "print('크기 변형 : \\n', x2.numpy())\n",
    "print('열의 합 : ', xsum.numpy())\n",
    "print('열의 평균 : ', xmean.numpy())"
   ]
  },
  {
   "cell_type": "markdown",
   "metadata": {},
   "source": [
    "### 텐서 연산\n",
    "텐서플로의 공식 문서를 참조 https://www.tensorflow.org/versions/r1.12/api_docs/python/tf"
   ]
  },
  {
   "cell_type": "markdown",
   "metadata": {},
   "source": [
    "# 계산 그래프의 이해\n",
    "\n",
    "계산 그래프를 만든 후 세션을 통해 그래프를 실행한다.\n",
    "1. 비어있는 계산그래프 생성\n",
    "2. 계산 그래프에 노드(텐서와 연산)을 추가\n",
    "3. 그래프 실행\n",
    "    * 새로운 새션을 시작\n",
    "    * 그래프에 있는 변수를 초기화\n",
    "    * 계산 그래프를 실행"
   ]
  },
  {
   "cell_type": "code",
   "execution_count": 15,
   "metadata": {},
   "outputs": [
    {
     "name": "stdout",
     "output_type": "stream",
     "text": [
      "2*(a-b)+c =>  1\n"
     ]
    }
   ],
   "source": [
    "g = tf.Graph() # 명시적으로 그래프를 지정하지 않으면 기본 그래프가 사용된다.\n",
    " \n",
    "## 그래프에 노드를 추가합니다.\n",
    "with g.as_default():\n",
    "    a = tf.constant(1, name='a')\n",
    "    b = tf.constant(2, name='b') \n",
    "    c = tf.constant(3, name='c') \n",
    "\n",
    "    z = 2*(a-b) + c\n",
    "    \n",
    "## 그래프를 실행합니다.\n",
    "with tf.Session(graph=g) as sess:\n",
    "    print('2*(a-b)+c => ', sess.run(z))"
   ]
  },
  {
   "cell_type": "markdown",
   "metadata": {},
   "source": [
    "# 변수\n",
    "훈련과정 동안 모형 파라미터를 저장하고 업데이트 할 수 있다. 예를 들면 모형의 가중치. 변수를 정의할 때 초기 텐서 값을 지정해야 한다. \n",
    "\n",
    "tf.Variable을 통해 변수를 지정하는데 shape이나 type을 지정할 수 없다. 크기와 타입은 초기값과 동일하게 설정된다. "
   ]
  },
  {
   "cell_type": "code",
   "execution_count": 16,
   "metadata": {},
   "outputs": [
    {
     "name": "stdout",
     "output_type": "stream",
     "text": [
      "<tf.Variable 'w1:0' shape=(2, 4) dtype=int32_ref>\n"
     ]
    }
   ],
   "source": [
    "g1 = tf.Graph()\n",
    "\n",
    "with g1.as_default():\n",
    "    w1 = tf.Variable(np.array([[1, 2, 3, 4],\n",
    "                              [5, 6, 7, 8]]), name='w1')\n",
    "print(w1)"
   ]
  },
  {
   "cell_type": "markdown",
   "metadata": {},
   "source": [
    "변수 w1에는 실제 값이 포함되지 않았다. 변수를 사용하기 전에는 초기화해 주어야 한다. "
   ]
  },
  {
   "cell_type": "code",
   "execution_count": 17,
   "metadata": {},
   "outputs": [
    {
     "name": "stdout",
     "output_type": "stream",
     "text": [
      "name: \"init\"\n",
      "op: \"NoOp\"\n",
      "input: \"^w1/Assign\"\n",
      "\n"
     ]
    }
   ],
   "source": [
    "with g1.as_default():\n",
    "    init = tf.global_variables_initializer()\n",
    "    print(init.node_def)"
   ]
  },
  {
   "cell_type": "markdown",
   "metadata": {},
   "source": [
    "#### 변수 사용시 주의점 \n",
    "\n",
    "run(w1)을 여러번 하더라도 변수의 값이 증가하지 않는다.\n",
    "\n",
    "assign() 메서드를 사용해서 변수의 값을 증가하는 연산을 만들어야 한다."
   ]
  },
  {
   "cell_type": "code",
   "execution_count": 18,
   "metadata": {},
   "outputs": [
    {
     "name": "stdout",
     "output_type": "stream",
     "text": [
      "Tensor(\"add:0\", shape=(2, 4), dtype=int32)\n",
      "[[2 3 4 5]\n",
      " [6 7 8 9]]\n",
      "[[2 3 4 5]\n",
      " [6 7 8 9]]\n"
     ]
    }
   ],
   "source": [
    "with g1.as_default():\n",
    "    w1 = w1 + 1\n",
    "    print(w1)\n",
    "    \n",
    "with tf.Session(graph=g1) as sess:\n",
    "    init = tf.global_variables_initializer()\n",
    "    sess.run(init)\n",
    "    print(sess.run(w1))\n",
    "    print(sess.run(w1))"
   ]
  },
  {
   "cell_type": "code",
   "execution_count": 19,
   "metadata": {},
   "outputs": [
    {
     "name": "stdout",
     "output_type": "stream",
     "text": [
      "[[2 3 4 5]\n",
      " [6 7 8 9]]\n",
      "[[ 3  4  5  6]\n",
      " [ 7  8  9 10]]\n"
     ]
    }
   ],
   "source": [
    "g2 = tf.Graph()\n",
    "\n",
    "with g2.as_default():\n",
    "    w1 = tf.Variable(np.array([[1, 2, 3, 4],\n",
    "                              [5, 6, 7, 8]]), name='w1')\n",
    "    w1 = w1.assign(w1 + 1)\n",
    "\n",
    "with tf.Session(graph=g2) as sess:\n",
    "    init = tf.global_variables_initializer()\n",
    "    sess.run(init)\n",
    "    print(sess.run(w1))\n",
    "    print(sess.run(w1))"
   ]
  },
  {
   "cell_type": "markdown",
   "metadata": {},
   "source": [
    "# 텐서플로 저수준 API로 모델 개발"
   ]
  },
  {
   "cell_type": "markdown",
   "metadata": {},
   "source": [
    "입력 데이터를 위해 **placeholder(플레이스 홀더)** 를 정의한다. 그리고 가중치 행렬을 정의하고 입력에서 출력으로 연결된 **모형을 생성**한다. 최적화를 위해서 **손실 함수 또는 비용함수를 정의하고 어떤 최적화 알고리즘**을 사용할 지 결정한다. 그 다음 **세션을 만들고 변수를 초기화** 한다. shape=(None)로 placeholder x를 만들었다. 입력 데이터 크기를 지정하지 않았으므로 한번에 전체 데이터를 전달하여 하나씩 **모델에 주입**할 수 있다. "
   ]
  },
  {
   "cell_type": "code",
   "execution_count": 20,
   "metadata": {},
   "outputs": [],
   "source": [
    "import tensorflow as tf\n",
    "import numpy as np\n",
    "\n",
    "tf.enable_eager_execution()"
   ]
  },
  {
   "cell_type": "code",
   "execution_count": 21,
   "metadata": {},
   "outputs": [],
   "source": [
    "X_train = np.arange(10).reshape((10,1))\n",
    "y_train = np.array([1.0, 1.3, 3.1, 2.0, 5.0, 6.3, 6.6, 7.4, 8.0, 9.0])"
   ]
  },
  {
   "cell_type": "markdown",
   "metadata": {},
   "source": [
    "* z = wx + b 형태로 선형 회귀 모델을 정의한 후 평균 제곱 오차를 비용 함수를 정의한다. \n",
    "* 학습을 위하여 경사 하강법 옵티마이저를 사용한다."
   ]
  },
  {
   "cell_type": "code",
   "execution_count": 22,
   "metadata": {},
   "outputs": [],
   "source": [
    "class LinearReg(object):\n",
    "    def __init__(self, learning_rate=0.01):\n",
    "        ## 가중치와 절편을 정의합니다\n",
    "        self.w = tf.Variable(tf.zeros(shape=(1)))\n",
    "        self.b = tf.Variable(tf.zeros(shape=(1)))\n",
    "        ## 경사 하강법 옵티마이저를 설정합니다.\n",
    "        #self.optimizer = tf.keras.optimizers.SGD(lr=learning_rate)\n",
    "        self.optimizer = tf.train.GradientDescentOptimizer(learning_rate=learning_rate)\n",
    "        \n",
    "    def fit(self, X, y, num_epochs=10):\n",
    "        ## 비용 함수의 값을 저장하기 위한 리스트를 정의합니다.\n",
    "        training_costs = []\n",
    "        for step in range(num_epochs):\n",
    "            ## 자동 미분을 위해 연산 과정을 기록합니다.\n",
    "            with tf.GradientTape() as tape:\n",
    "                z_net = self.w * X + self.b\n",
    "                z_net = tf.reshape(z_net, [-1])\n",
    "                sqr_errors = tf.square(y - z_net)\n",
    "                mean_cost = tf.reduce_mean(sqr_errors)\n",
    "            ## 비용 함수에 대한 가중치의 그래디언트를 계산합니다.\n",
    "            grads = tape.gradient(mean_cost, [self.w, self.b])\n",
    "            ## 옵티마이저에 그래디언트를 반영합니다.\n",
    "            self.optimizer.apply_gradients(zip(grads, [self.w, self.b]))\n",
    "            ## 비용 함수의 값을 저장합니다.\n",
    "            training_costs.append(mean_cost.numpy())\n",
    "        return training_costs\n",
    "    \n",
    "    def predict(self, X):\n",
    "        return self.w * X + self.b"
   ]
  },
  {
   "cell_type": "code",
   "execution_count": 23,
   "metadata": {},
   "outputs": [],
   "source": [
    "lr = LinearReg()\n",
    "train_cost = lr.fit(X_train, y_train)"
   ]
  },
  {
   "cell_type": "code",
   "execution_count": 24,
   "metadata": {},
   "outputs": [],
   "source": [
    "import matplotlib.pyplot as plt\n",
    "%matplotlib inline"
   ]
  },
  {
   "cell_type": "code",
   "execution_count": 25,
   "metadata": {},
   "outputs": [
    {
     "data": {
      "image/png": "[encoded data removed]",
      "text/plain": [
       "<Figure size 432x288 with 1 Axes>"
      ]
     },
     "metadata": {
      "needs_background": "light"
     },
     "output_type": "display_data"
    }
   ],
   "source": [
    "plt.plot(range(1,len(train_cost) + 1), train_cost)\n",
    "plt.tight_layout()\n",
    "plt.xlabel('Epoch')\n",
    "plt.ylabel('Training Cost')\n",
    "plt.tight_layout()\n",
    "plt.show()"
   ]
  },
  {
   "cell_type": "code",
   "execution_count": 26,
   "metadata": {},
   "outputs": [
    {
     "data": {
      "image/png": "[encoded data removed]",
      "text/plain": [
       "<Figure size 432x288 with 1 Axes>"
      ]
     },
     "metadata": {
      "needs_background": "light"
     },
     "output_type": "display_data"
    }
   ],
   "source": [
    "plt.scatter(X_train, y_train, marker='s', s=50, label='training')\n",
    "plt.plot(range(X_train.shape[0]),lr.predict(X_train), marker='o', color='gray',label='Linear Regression')\n",
    "plt.xlabel('x')\n",
    "plt.ylabel('y')\n",
    "plt.legend()\n",
    "plt.show()"
   ]
  }
 ],
 "metadata": {
  "kernelspec": {
   "display_name": "Python 3",
   "language": "python",
   "name": "python3"
  },
  "language_info": {
   "codemirror_mode": {
    "name": "ipython",
    "version": 3
   },
   "file_extension": ".py",
   "mimetype": "text/x-python",
   "name": "python",
   "nbconvert_exporter": "python",
   "pygments_lexer": "ipython3",
   "version": "3.6.9"
  }
 },
 "nbformat": 4,
 "nbformat_minor": 2
}
