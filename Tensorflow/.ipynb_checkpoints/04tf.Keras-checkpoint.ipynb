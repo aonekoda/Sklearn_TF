{
 "cells": [
  {
   "cell_type": "markdown",
   "metadata": {},
   "source": [
    "# tf.keras API사용하기\n",
    "\n"
   ]
  },
  {
   "cell_type": "code",
   "execution_count": 1,
   "metadata": {},
   "outputs": [],
   "source": [
    "import numpy as np\n",
    "import matplotlib.pyplot as plt\n",
    "import tensorflow as tf\n",
    "%matplotlib inline\n"
   ]
  },
  {
   "cell_type": "markdown",
   "metadata": {},
   "source": [
    "### Sequential 모델"
   ]
  },
  {
   "cell_type": "code",
   "execution_count": 2,
   "metadata": {},
   "outputs": [
    {
     "data": {
      "image/png": "[encoded data removed]",
      "text/plain": [
       "<Figure size 432x288 with 1 Axes>"
      ]
     },
     "metadata": {
      "needs_background": "light"
     },
     "output_type": "display_data"
    }
   ],
   "source": [
    "## 랜덤한 회귀용 예제 데이터셋을 만듭니다\n",
    "\n",
    "np.random.seed(0)\n",
    "\n",
    "def make_random_data():\n",
    "    x = np.random.uniform(low=-2, high=2, size=200)\n",
    "    y = []\n",
    "    for t in x:\n",
    "        r = np.random.normal(loc=0.0, \n",
    "                             scale=(0.5 + t*t/3), \n",
    "                             size=None)\n",
    "        y.append(r)\n",
    "    return  x, 1.726*x -0.84 + np.array(y)\n",
    "\n",
    "\n",
    "x, y = make_random_data() \n",
    "\n",
    "plt.plot(x, y, 'o')\n",
    "plt.show()"
   ]
  },
  {
   "cell_type": "code",
   "execution_count": 3,
   "metadata": {},
   "outputs": [],
   "source": [
    "# 훈련데이터 / 테스트 데이터 나누기\n",
    "x_train, y_train = x[:150], y[:150]\n",
    "x_test, y_test = x[150:], y[150:]"
   ]
  },
  {
   "cell_type": "markdown",
   "metadata": {},
   "source": [
    "### tf.keras Sequential 모델\n",
    "\n",
    "Sequential 모델은 순서대로 층을 쌓아 모형을 생성한다. \n",
    "\n",
    "* Dense 층은 완전 연결층이다. \n",
    "\n",
    "* 이 예제에서는 간단한 y = wx + b 형태의 회귀 모형을 구현한다. 1차원 데이터 셋으로 출력 유닛 하나를 가진 간단한 완전 연결층 하나를 추가한다.\n",
    "\n",
    "* 회귀모형이므로 마지막 출력층의 활성화 함수를 설정하지 않는다. \n",
    "\n",
    "* activation 파라미터의 기본은 None이다. sigmoid, tanh, relu를 지정 가능하다."
   ]
  },
  {
   "cell_type": "code",
   "execution_count": 4,
   "metadata": {},
   "outputs": [],
   "source": [
    "model = tf.keras.Sequential()\n",
    "\n",
    "model.add(tf.keras.layers.Dense(units=1, input_dim=1))"
   ]
  },
  {
   "cell_type": "code",
   "execution_count": 5,
   "metadata": {},
   "outputs": [
    {
     "name": "stdout",
     "output_type": "stream",
     "text": [
      "_________________________________________________________________\n",
      "Layer (type)                 Output Shape              Param #   \n",
      "=================================================================\n",
      "dense (Dense)                (None, 1)                 2         \n",
      "=================================================================\n",
      "Total params: 2\n",
      "Trainable params: 2\n",
      "Non-trainable params: 0\n",
      "_________________________________________________________________\n"
     ]
    }
   ],
   "source": [
    "model.summary()"
   ]
  },
  {
   "cell_type": "markdown",
   "metadata": {},
   "source": [
    "### 모형의 훈련\n",
    "\n",
    "**compile()메서드** \n",
    "\n",
    "\n",
    "* `loss = 'mean_squared_error'` 에서 회귀문제를 위해 평균제곱오차를 손실함수로 설정한다.\n",
    "* 참고) 다중 클래스 분류 문제를 위해서는 categorical_crossentropy, 이진 분류에서는 binary_crossentropy를 사용한다.\n",
    "* `optimizer=tf.keras.optimizers.SGD(0.001)` 경사하강법 옵티마이저를 정한다. SGD 이외에도 여러가지가 있다. https://www.tensorflow.org/versions/r1.12/api_docs/python/tf/keras/optimizers"
   ]
  },
  {
   "cell_type": "code",
   "execution_count": 6,
   "metadata": {},
   "outputs": [
    {
     "name": "stdout",
     "output_type": "stream",
     "text": [
      "Train on 105 samples, validate on 45 samples\n",
      "Epoch 1/100\n",
      "105/105 [==============================] - 0s 2ms/step - loss: 1.6622 - val_loss: 1.3826\n",
      "Epoch 2/100\n",
      "105/105 [==============================] - 0s 76us/step - loss: 1.5206 - val_loss: 1.2912\n",
      "Epoch 3/100\n",
      "105/105 [==============================] - 0s 76us/step - loss: 1.4100 - val_loss: 1.2205\n",
      "Epoch 4/100\n",
      "105/105 [==============================] - 0s 57us/step - loss: 1.3176 - val_loss: 1.1556\n",
      "Epoch 5/100\n",
      "105/105 [==============================] - 0s 57us/step - loss: 1.2309 - val_loss: 1.0972\n",
      "Epoch 6/100\n",
      "105/105 [==============================] - 0s 57us/step - loss: 1.1571 - val_loss: 1.0465\n",
      "Epoch 7/100\n",
      "105/105 [==============================] - 0s 48us/step - loss: 1.0930 - val_loss: 1.0127\n",
      "Epoch 8/100\n",
      "105/105 [==============================] - 0s 57us/step - loss: 1.0465 - val_loss: 0.9829\n",
      "Epoch 9/100\n",
      "105/105 [==============================] - 0s 67us/step - loss: 1.0037 - val_loss: 0.9565\n",
      "Epoch 10/100\n",
      "105/105 [==============================] - 0s 57us/step - loss: 0.9676 - val_loss: 0.9348\n",
      "Epoch 11/100\n",
      "105/105 [==============================] - 0s 57us/step - loss: 0.9352 - val_loss: 0.9170\n",
      "Epoch 12/100\n",
      "105/105 [==============================] - 0s 57us/step - loss: 0.9014 - val_loss: 0.9037\n",
      "Epoch 13/100\n",
      "105/105 [==============================] - 0s 57us/step - loss: 0.8784 - val_loss: 0.8933\n",
      "Epoch 14/100\n",
      "105/105 [==============================] - 0s 47us/step - loss: 0.8591 - val_loss: 0.8850\n",
      "Epoch 15/100\n",
      "105/105 [==============================] - 0s 48us/step - loss: 0.8387 - val_loss: 0.8813\n",
      "Epoch 16/100\n",
      "105/105 [==============================] - 0s 38us/step - loss: 0.8300 - val_loss: 0.8775\n",
      "Epoch 17/100\n",
      "105/105 [==============================] - 0s 48us/step - loss: 0.8198 - val_loss: 0.8741\n",
      "Epoch 18/100\n",
      "105/105 [==============================] - 0s 57us/step - loss: 0.8118 - val_loss: 0.8710\n",
      "Epoch 19/100\n",
      "105/105 [==============================] - 0s 48us/step - loss: 0.8042 - val_loss: 0.8687\n",
      "Epoch 20/100\n",
      "105/105 [==============================] - 0s 48us/step - loss: 0.7942 - val_loss: 0.8686\n",
      "Epoch 21/100\n",
      "105/105 [==============================] - 0s 57us/step - loss: 0.7885 - val_loss: 0.8680\n",
      "Epoch 22/100\n",
      "105/105 [==============================] - 0s 48us/step - loss: 0.7851 - val_loss: 0.8682\n",
      "Epoch 23/100\n",
      "105/105 [==============================] - 0s 48us/step - loss: 0.7822 - val_loss: 0.8665\n",
      "Epoch 24/100\n",
      "105/105 [==============================] - 0s 48us/step - loss: 0.7801 - val_loss: 0.8656\n",
      "Epoch 25/100\n",
      "105/105 [==============================] - 0s 57us/step - loss: 0.7765 - val_loss: 0.8661\n",
      "Epoch 26/100\n",
      "105/105 [==============================] - 0s 57us/step - loss: 0.7746 - val_loss: 0.8685\n",
      "Epoch 27/100\n",
      "105/105 [==============================] - 0s 48us/step - loss: 0.7709 - val_loss: 0.8709\n",
      "Epoch 28/100\n",
      "105/105 [==============================] - 0s 57us/step - loss: 0.7692 - val_loss: 0.8719\n",
      "Epoch 29/100\n",
      "105/105 [==============================] - 0s 48us/step - loss: 0.7669 - val_loss: 0.8750\n",
      "Epoch 30/100\n",
      "105/105 [==============================] - 0s 48us/step - loss: 0.7637 - val_loss: 0.8787\n",
      "Epoch 31/100\n",
      "105/105 [==============================] - 0s 57us/step - loss: 0.7622 - val_loss: 0.8799\n",
      "Epoch 32/100\n",
      "105/105 [==============================] - 0s 47us/step - loss: 0.7615 - val_loss: 0.8808\n",
      "Epoch 33/100\n",
      "105/105 [==============================] - 0s 57us/step - loss: 0.7621 - val_loss: 0.8834\n",
      "Epoch 34/100\n",
      "105/105 [==============================] - 0s 48us/step - loss: 0.7598 - val_loss: 0.8865\n",
      "Epoch 35/100\n",
      "105/105 [==============================] - 0s 48us/step - loss: 0.7590 - val_loss: 0.8861\n",
      "Epoch 36/100\n",
      "105/105 [==============================] - 0s 57us/step - loss: 0.7590 - val_loss: 0.8857\n",
      "Epoch 37/100\n",
      "105/105 [==============================] - 0s 86us/step - loss: 0.7581 - val_loss: 0.8846\n",
      "Epoch 38/100\n",
      "105/105 [==============================] - 0s 86us/step - loss: 0.7603 - val_loss: 0.8871\n",
      "Epoch 39/100\n",
      "105/105 [==============================] - 0s 86us/step - loss: 0.7581 - val_loss: 0.8910\n",
      "Epoch 40/100\n",
      "105/105 [==============================] - 0s 57us/step - loss: 0.7568 - val_loss: 0.8930\n",
      "Epoch 41/100\n",
      "105/105 [==============================] - 0s 76us/step - loss: 0.7573 - val_loss: 0.8991\n",
      "Epoch 42/100\n",
      "105/105 [==============================] - 0s 57us/step - loss: 0.7571 - val_loss: 0.8991\n",
      "Epoch 43/100\n",
      "105/105 [==============================] - 0s 57us/step - loss: 0.7561 - val_loss: 0.8958\n",
      "Epoch 44/100\n",
      "105/105 [==============================] - 0s 48us/step - loss: 0.7565 - val_loss: 0.8943\n",
      "Epoch 45/100\n",
      "105/105 [==============================] - 0s 48us/step - loss: 0.7564 - val_loss: 0.8960\n",
      "Epoch 46/100\n",
      "105/105 [==============================] - 0s 48us/step - loss: 0.7563 - val_loss: 0.8959\n",
      "Epoch 47/100\n",
      "105/105 [==============================] - 0s 48us/step - loss: 0.7561 - val_loss: 0.8965\n",
      "Epoch 48/100\n",
      "105/105 [==============================] - 0s 48us/step - loss: 0.7566 - val_loss: 0.8934\n",
      "Epoch 49/100\n",
      "105/105 [==============================] - 0s 48us/step - loss: 0.7567 - val_loss: 0.8931\n",
      "Epoch 50/100\n",
      "105/105 [==============================] - ETA: 0s - loss: 0.823 - 0s 48us/step - loss: 0.7570 - val_loss: 0.8941\n",
      "Epoch 51/100\n",
      "105/105 [==============================] - 0s 48us/step - loss: 0.7567 - val_loss: 0.8947\n",
      "Epoch 52/100\n",
      "105/105 [==============================] - 0s 48us/step - loss: 0.7567 - val_loss: 0.8965\n",
      "Epoch 53/100\n",
      "105/105 [==============================] - 0s 48us/step - loss: 0.7568 - val_loss: 0.8952\n",
      "Epoch 54/100\n",
      "105/105 [==============================] - 0s 38us/step - loss: 0.7570 - val_loss: 0.8960\n",
      "Epoch 55/100\n",
      "105/105 [==============================] - 0s 48us/step - loss: 0.7575 - val_loss: 0.8978\n",
      "Epoch 56/100\n",
      "105/105 [==============================] - 0s 57us/step - loss: 0.7571 - val_loss: 0.8969\n",
      "Epoch 57/100\n",
      "105/105 [==============================] - 0s 48us/step - loss: 0.7594 - val_loss: 0.9027\n",
      "Epoch 58/100\n",
      "105/105 [==============================] - 0s 57us/step - loss: 0.7561 - val_loss: 0.9015\n",
      "Epoch 59/100\n",
      "105/105 [==============================] - 0s 48us/step - loss: 0.7565 - val_loss: 0.8986\n",
      "Epoch 60/100\n",
      "105/105 [==============================] - 0s 48us/step - loss: 0.7572 - val_loss: 0.8997\n",
      "Epoch 61/100\n",
      "105/105 [==============================] - 0s 48us/step - loss: 0.7563 - val_loss: 0.9011\n",
      "Epoch 62/100\n",
      "105/105 [==============================] - 0s 48us/step - loss: 0.7575 - val_loss: 0.9041\n",
      "Epoch 63/100\n",
      "105/105 [==============================] - 0s 48us/step - loss: 0.7580 - val_loss: 0.9068\n",
      "Epoch 64/100\n",
      "105/105 [==============================] - 0s 48us/step - loss: 0.7563 - val_loss: 0.9100\n",
      "Epoch 65/100\n",
      "105/105 [==============================] - 0s 48us/step - loss: 0.7564 - val_loss: 0.9129\n",
      "Epoch 66/100\n",
      "105/105 [==============================] - 0s 38us/step - loss: 0.7575 - val_loss: 0.9143\n",
      "Epoch 67/100\n",
      "105/105 [==============================] - 0s 48us/step - loss: 0.7561 - val_loss: 0.9143\n",
      "Epoch 68/100\n",
      "105/105 [==============================] - 0s 47us/step - loss: 0.7563 - val_loss: 0.9163\n",
      "Epoch 69/100\n",
      "105/105 [==============================] - 0s 38us/step - loss: 0.7569 - val_loss: 0.9119\n",
      "Epoch 70/100\n",
      "105/105 [==============================] - 0s 38us/step - loss: 0.7572 - val_loss: 0.9094\n",
      "Epoch 71/100\n",
      "105/105 [==============================] - 0s 48us/step - loss: 0.7561 - val_loss: 0.9096\n",
      "Epoch 72/100\n",
      "105/105 [==============================] - 0s 38us/step - loss: 0.7567 - val_loss: 0.9159\n",
      "Epoch 73/100\n",
      "105/105 [==============================] - 0s 57us/step - loss: 0.7568 - val_loss: 0.9170\n",
      "Epoch 74/100\n",
      "105/105 [==============================] - 0s 57us/step - loss: 0.7573 - val_loss: 0.9144\n",
      "Epoch 75/100\n",
      "105/105 [==============================] - 0s 48us/step - loss: 0.7568 - val_loss: 0.9074\n",
      "Epoch 76/100\n",
      "105/105 [==============================] - 0s 48us/step - loss: 0.7580 - val_loss: 0.9071\n",
      "Epoch 77/100\n",
      "105/105 [==============================] - 0s 48us/step - loss: 0.7562 - val_loss: 0.9039\n",
      "Epoch 78/100\n",
      "105/105 [==============================] - 0s 47us/step - loss: 0.7567 - val_loss: 0.9011\n",
      "Epoch 79/100\n",
      "105/105 [==============================] - 0s 48us/step - loss: 0.7566 - val_loss: 0.9034\n"
     ]
    },
    {
     "name": "stdout",
     "output_type": "stream",
     "text": [
      "Epoch 80/100\n",
      "105/105 [==============================] - 0s 48us/step - loss: 0.7566 - val_loss: 0.9034\n",
      "Epoch 81/100\n",
      "105/105 [==============================] - 0s 48us/step - loss: 0.7567 - val_loss: 0.9038\n",
      "Epoch 82/100\n",
      "105/105 [==============================] - 0s 38us/step - loss: 0.7563 - val_loss: 0.9021\n",
      "Epoch 83/100\n",
      "105/105 [==============================] - 0s 48us/step - loss: 0.7570 - val_loss: 0.9007\n",
      "Epoch 84/100\n",
      "105/105 [==============================] - 0s 48us/step - loss: 0.7563 - val_loss: 0.8993\n",
      "Epoch 85/100\n",
      "105/105 [==============================] - 0s 48us/step - loss: 0.7578 - val_loss: 0.9011\n",
      "Epoch 86/100\n",
      "105/105 [==============================] - 0s 86us/step - loss: 0.7571 - val_loss: 0.9001\n",
      "Epoch 87/100\n",
      "105/105 [==============================] - 0s 48us/step - loss: 0.7570 - val_loss: 0.8998\n",
      "Epoch 88/100\n",
      "105/105 [==============================] - 0s 48us/step - loss: 0.7565 - val_loss: 0.9049\n",
      "Epoch 89/100\n",
      "105/105 [==============================] - 0s 57us/step - loss: 0.7560 - val_loss: 0.9068\n",
      "Epoch 90/100\n",
      "105/105 [==============================] - 0s 48us/step - loss: 0.7573 - val_loss: 0.9098\n",
      "Epoch 91/100\n",
      "105/105 [==============================] - 0s 38us/step - loss: 0.7574 - val_loss: 0.9136\n",
      "Epoch 92/100\n",
      "105/105 [==============================] - 0s 38us/step - loss: 0.7568 - val_loss: 0.9085\n",
      "Epoch 93/100\n",
      "105/105 [==============================] - 0s 38us/step - loss: 0.7570 - val_loss: 0.9097\n",
      "Epoch 94/100\n",
      "105/105 [==============================] - ETA: 0s - loss: 0.544 - 0s 48us/step - loss: 0.7562 - val_loss: 0.9109\n",
      "Epoch 95/100\n",
      "105/105 [==============================] - 0s 48us/step - loss: 0.7574 - val_loss: 0.9123\n",
      "Epoch 96/100\n",
      "105/105 [==============================] - 0s 48us/step - loss: 0.7568 - val_loss: 0.9093\n",
      "Epoch 97/100\n",
      "105/105 [==============================] - 0s 48us/step - loss: 0.7564 - val_loss: 0.9075\n",
      "Epoch 98/100\n",
      "105/105 [==============================] - 0s 48us/step - loss: 0.7560 - val_loss: 0.9051\n",
      "Epoch 99/100\n",
      "105/105 [==============================] - 0s 48us/step - loss: 0.7568 - val_loss: 0.9081\n",
      "Epoch 100/100\n",
      "105/105 [==============================] - 0s 48us/step - loss: 0.7577 - val_loss: 0.9151\n"
     ]
    }
   ],
   "source": [
    "#model.compile(loss='mean_squared_error',\n",
    "#              optimizer=tf.keras.optimizers.SGD(0.001))\n",
    "\n",
    "model.compile(optimizer='sgd', loss='mse')\n",
    "history = model.fit(x_train, y_train, epochs=100, \n",
    "                    validation_split=0.3)"
   ]
  },
  {
   "cell_type": "markdown",
   "metadata": {},
   "source": [
    "**fit()메서드**\n",
    "\n",
    "* `validation_split=0.3` : 검증데이터 크기를  30%로 한다.\n",
    "* `history` : 히스토리 객체는 epoch마다 계산한 손실 함수 값이 저장되어 있다. \n",
    "* 훈련세트에 대한 손실 함수값은 `'loss'` 키에 담겨 있다."
   ]
  },
  {
   "cell_type": "code",
   "execution_count": 7,
   "metadata": {},
   "outputs": [
    {
     "data": {
      "image/png": "[encoded data removed]",
      "text/plain": [
       "<Figure size 432x288 with 1 Axes>"
      ]
     },
     "metadata": {
      "needs_background": "light"
     },
     "output_type": "display_data"
    }
   ],
   "source": [
    "epochs = np.arange(1, 100+1)\n",
    "plt.plot(epochs, history.history['loss'], label='Training loss')\n",
    "plt.xlabel('Epochs')\n",
    "plt.ylabel('Loss')\n",
    "plt.legend()\n",
    "plt.show()"
   ]
  },
  {
   "cell_type": "markdown",
   "metadata": {},
   "source": [
    "### 함수형 API\n",
    "sequential 모델은 층을 순서대로 쌓은 것이다. 보다 복잡한 모형을 만들어야 할 때 tf.keras의 함수형 API를 사용하면 더 다양한 모델을 만들 수 있다. 함수형API를 사용하면 원하는 층을 자유롭게 조합 할 수 있다. "
   ]
  },
  {
   "cell_type": "code",
   "execution_count": 8,
   "metadata": {},
   "outputs": [
    {
     "name": "stdout",
     "output_type": "stream",
     "text": [
      "_________________________________________________________________\n",
      "Layer (type)                 Output Shape              Param #   \n",
      "=================================================================\n",
      "input_1 (InputLayer)         (None, 1)                 0         \n",
      "_________________________________________________________________\n",
      "dense_1 (Dense)              (None, 1)                 2         \n",
      "=================================================================\n",
      "Total params: 2\n",
      "Trainable params: 2\n",
      "Non-trainable params: 0\n",
      "_________________________________________________________________\n"
     ]
    }
   ],
   "source": [
    "from tensorflow.keras import Model, Input\n",
    "\n",
    "input = tf.keras.Input(shape=(1,))\n",
    "output = tf.keras.layers.Dense(1)(input)\n",
    "\n",
    "model = tf.keras.Model(input, output)\n",
    "\n",
    "model.summary()"
   ]
  },
  {
   "cell_type": "markdown",
   "metadata": {},
   "source": [
    "Input layer는 입력데이터를 위한 층으로 훈련할 가중치를 가지고 있지 않다. \n",
    "\n",
    "컴파일하고 훈련하는 단계는 sequential 모델과 동일하다."
   ]
  },
  {
   "cell_type": "code",
   "execution_count": 9,
   "metadata": {},
   "outputs": [
    {
     "name": "stdout",
     "output_type": "stream",
     "text": [
      "Train on 105 samples, validate on 45 samples\n",
      "Epoch 1/100\n",
      "105/105 [==============================] - 0s 1ms/step - loss: 7.9564 - val_loss: 4.7438\n",
      "Epoch 2/100\n",
      "105/105 [==============================] - 0s 48us/step - loss: 6.5331 - val_loss: 3.9795\n",
      "Epoch 3/100\n",
      "105/105 [==============================] - 0s 48us/step - loss: 5.3854 - val_loss: 3.3945\n",
      "Epoch 4/100\n",
      "105/105 [==============================] - 0s 47us/step - loss: 4.5151 - val_loss: 2.9381\n",
      "Epoch 5/100\n",
      "105/105 [==============================] - 0s 48us/step - loss: 3.8268 - val_loss: 2.5428\n",
      "Epoch 6/100\n",
      "105/105 [==============================] - 0s 47us/step - loss: 3.2313 - val_loss: 2.2543\n",
      "Epoch 7/100\n",
      "105/105 [==============================] - 0s 48us/step - loss: 2.7845 - val_loss: 1.9999\n",
      "Epoch 8/100\n",
      "105/105 [==============================] - 0s 48us/step - loss: 2.3849 - val_loss: 1.7851\n",
      "Epoch 9/100\n",
      "105/105 [==============================] - 0s 38us/step - loss: 2.0604 - val_loss: 1.6127\n",
      "Epoch 10/100\n",
      "105/105 [==============================] - 0s 47us/step - loss: 1.7984 - val_loss: 1.4631\n",
      "Epoch 11/100\n",
      "105/105 [==============================] - 0s 38us/step - loss: 1.5798 - val_loss: 1.3443\n",
      "Epoch 12/100\n",
      "105/105 [==============================] - 0s 48us/step - loss: 1.4061 - val_loss: 1.2667\n",
      "Epoch 13/100\n",
      "105/105 [==============================] - 0s 57us/step - loss: 1.2881 - val_loss: 1.1917\n",
      "Epoch 14/100\n",
      "105/105 [==============================] - 0s 48us/step - loss: 1.1736 - val_loss: 1.1399\n",
      "Epoch 15/100\n",
      "105/105 [==============================] - 0s 38us/step - loss: 1.0924 - val_loss: 1.0886\n",
      "Epoch 16/100\n",
      "105/105 [==============================] - 0s 48us/step - loss: 1.0216 - val_loss: 1.0542\n",
      "Epoch 17/100\n",
      "105/105 [==============================] - 0s 48us/step - loss: 0.9749 - val_loss: 1.0237\n",
      "Epoch 18/100\n",
      "105/105 [==============================] - 0s 38us/step - loss: 0.9373 - val_loss: 1.0021\n",
      "Epoch 19/100\n",
      "105/105 [==============================] - 0s 57us/step - loss: 0.9045 - val_loss: 0.9922\n",
      "Epoch 20/100\n",
      "105/105 [==============================] - 0s 38us/step - loss: 0.8799 - val_loss: 0.9702\n",
      "Epoch 21/100\n",
      "105/105 [==============================] - 0s 48us/step - loss: 0.8521 - val_loss: 0.9579\n",
      "Epoch 22/100\n",
      "105/105 [==============================] - 0s 47us/step - loss: 0.8308 - val_loss: 0.9394\n",
      "Epoch 23/100\n",
      "105/105 [==============================] - 0s 48us/step - loss: 0.8131 - val_loss: 0.9306\n",
      "Epoch 24/100\n",
      "105/105 [==============================] - 0s 48us/step - loss: 0.8021 - val_loss: 0.9261\n",
      "Epoch 25/100\n",
      "105/105 [==============================] - 0s 48us/step - loss: 0.7937 - val_loss: 0.9152\n",
      "Epoch 26/100\n",
      "105/105 [==============================] - 0s 48us/step - loss: 0.7829 - val_loss: 0.9128\n",
      "Epoch 27/100\n",
      "105/105 [==============================] - 0s 47us/step - loss: 0.7780 - val_loss: 0.9068\n",
      "Epoch 28/100\n",
      "105/105 [==============================] - 0s 38us/step - loss: 0.7712 - val_loss: 0.9101\n",
      "Epoch 29/100\n",
      "105/105 [==============================] - 0s 48us/step - loss: 0.7688 - val_loss: 0.9105\n",
      "Epoch 30/100\n",
      "105/105 [==============================] - 0s 48us/step - loss: 0.7673 - val_loss: 0.9072\n",
      "Epoch 31/100\n",
      "105/105 [==============================] - 0s 48us/step - loss: 0.7646 - val_loss: 0.9012\n",
      "Epoch 32/100\n",
      "105/105 [==============================] - 0s 48us/step - loss: 0.7617 - val_loss: 0.8974\n",
      "Epoch 33/100\n",
      "105/105 [==============================] - 0s 48us/step - loss: 0.7606 - val_loss: 0.8978\n",
      "Epoch 34/100\n",
      "105/105 [==============================] - 0s 57us/step - loss: 0.7626 - val_loss: 0.8970\n",
      "Epoch 35/100\n",
      "105/105 [==============================] - 0s 48us/step - loss: 0.7601 - val_loss: 0.8943\n",
      "Epoch 36/100\n",
      "105/105 [==============================] - 0s 48us/step - loss: 0.7582 - val_loss: 0.8943\n",
      "Epoch 37/100\n",
      "105/105 [==============================] - 0s 48us/step - loss: 0.7587 - val_loss: 0.8959\n",
      "Epoch 38/100\n",
      "105/105 [==============================] - 0s 48us/step - loss: 0.7578 - val_loss: 0.8936\n",
      "Epoch 39/100\n",
      "105/105 [==============================] - 0s 48us/step - loss: 0.7572 - val_loss: 0.8931\n",
      "Epoch 40/100\n",
      "105/105 [==============================] - 0s 48us/step - loss: 0.7567 - val_loss: 0.8931\n",
      "Epoch 41/100\n",
      "105/105 [==============================] - 0s 48us/step - loss: 0.7571 - val_loss: 0.8906\n",
      "Epoch 42/100\n",
      "105/105 [==============================] - 0s 48us/step - loss: 0.7569 - val_loss: 0.8919\n",
      "Epoch 43/100\n",
      "105/105 [==============================] - 0s 47us/step - loss: 0.7576 - val_loss: 0.8912\n",
      "Epoch 44/100\n",
      "105/105 [==============================] - 0s 38us/step - loss: 0.7570 - val_loss: 0.8903\n",
      "Epoch 45/100\n",
      "105/105 [==============================] - 0s 48us/step - loss: 0.7580 - val_loss: 0.8937\n",
      "Epoch 46/100\n",
      "105/105 [==============================] - 0s 38us/step - loss: 0.7568 - val_loss: 0.8959\n",
      "Epoch 47/100\n",
      "105/105 [==============================] - 0s 48us/step - loss: 0.7566 - val_loss: 0.8955\n",
      "Epoch 48/100\n",
      "105/105 [==============================] - 0s 48us/step - loss: 0.7565 - val_loss: 0.8967\n",
      "Epoch 49/100\n",
      "105/105 [==============================] - 0s 38us/step - loss: 0.7567 - val_loss: 0.8977\n",
      "Epoch 50/100\n",
      "105/105 [==============================] - 0s 48us/step - loss: 0.7569 - val_loss: 0.8967\n",
      "Epoch 51/100\n",
      "105/105 [==============================] - 0s 38us/step - loss: 0.7567 - val_loss: 0.8986\n",
      "Epoch 52/100\n",
      "105/105 [==============================] - 0s 48us/step - loss: 0.7565 - val_loss: 0.8975\n",
      "Epoch 53/100\n",
      "105/105 [==============================] - 0s 48us/step - loss: 0.7566 - val_loss: 0.8934\n",
      "Epoch 54/100\n",
      "105/105 [==============================] - 0s 48us/step - loss: 0.7576 - val_loss: 0.8958\n",
      "Epoch 55/100\n",
      "105/105 [==============================] - 0s 38us/step - loss: 0.7567 - val_loss: 0.8956\n",
      "Epoch 56/100\n",
      "105/105 [==============================] - 0s 48us/step - loss: 0.7563 - val_loss: 0.8982\n",
      "Epoch 57/100\n",
      "105/105 [==============================] - 0s 48us/step - loss: 0.7561 - val_loss: 0.9025\n",
      "Epoch 58/100\n",
      "105/105 [==============================] - 0s 38us/step - loss: 0.7592 - val_loss: 0.9025\n",
      "Epoch 59/100\n",
      "105/105 [==============================] - 0s 48us/step - loss: 0.7572 - val_loss: 0.9014\n",
      "Epoch 60/100\n",
      "105/105 [==============================] - 0s 48us/step - loss: 0.7563 - val_loss: 0.9005\n",
      "Epoch 61/100\n",
      "105/105 [==============================] - 0s 48us/step - loss: 0.7572 - val_loss: 0.9011\n",
      "Epoch 62/100\n",
      "105/105 [==============================] - 0s 38us/step - loss: 0.7573 - val_loss: 0.9024\n",
      "Epoch 63/100\n",
      "105/105 [==============================] - 0s 48us/step - loss: 0.7578 - val_loss: 0.9037\n",
      "Epoch 64/100\n",
      "105/105 [==============================] - 0s 48us/step - loss: 0.7560 - val_loss: 0.9055\n",
      "Epoch 65/100\n",
      "105/105 [==============================] - 0s 38us/step - loss: 0.7566 - val_loss: 0.9028\n",
      "Epoch 66/100\n",
      "105/105 [==============================] - 0s 48us/step - loss: 0.7567 - val_loss: 0.8997\n",
      "Epoch 67/100\n",
      "105/105 [==============================] - 0s 48us/step - loss: 0.7561 - val_loss: 0.9021\n",
      "Epoch 68/100\n",
      "105/105 [==============================] - 0s 38us/step - loss: 0.7596 - val_loss: 0.9004\n",
      "Epoch 69/100\n",
      "105/105 [==============================] - 0s 38us/step - loss: 0.7563 - val_loss: 0.9003\n",
      "Epoch 70/100\n",
      "105/105 [==============================] - 0s 48us/step - loss: 0.7559 - val_loss: 0.9035\n",
      "Epoch 71/100\n",
      "105/105 [==============================] - 0s 38us/step - loss: 0.7560 - val_loss: 0.9040\n",
      "Epoch 72/100\n",
      "105/105 [==============================] - 0s 48us/step - loss: 0.7562 - val_loss: 0.9022\n",
      "Epoch 73/100\n",
      "105/105 [==============================] - 0s 38us/step - loss: 0.7560 - val_loss: 0.9050\n",
      "Epoch 74/100\n",
      "105/105 [==============================] - 0s 48us/step - loss: 0.7571 - val_loss: 0.9034\n",
      "Epoch 75/100\n",
      "105/105 [==============================] - 0s 48us/step - loss: 0.7567 - val_loss: 0.9047\n",
      "Epoch 76/100\n",
      "105/105 [==============================] - 0s 48us/step - loss: 0.7566 - val_loss: 0.9050\n",
      "Epoch 77/100\n",
      "105/105 [==============================] - 0s 48us/step - loss: 0.7561 - val_loss: 0.9011\n",
      "Epoch 78/100\n",
      "105/105 [==============================] - 0s 48us/step - loss: 0.7563 - val_loss: 0.8998\n",
      "Epoch 79/100\n",
      "105/105 [==============================] - 0s 48us/step - loss: 0.7584 - val_loss: 0.8991\n",
      "Epoch 80/100\n"
     ]
    },
    {
     "name": "stdout",
     "output_type": "stream",
     "text": [
      "105/105 [==============================] - 0s 48us/step - loss: 0.7560 - val_loss: 0.8974\n",
      "Epoch 81/100\n",
      "105/105 [==============================] - 0s 48us/step - loss: 0.7565 - val_loss: 0.9041\n",
      "Epoch 82/100\n",
      "105/105 [==============================] - 0s 48us/step - loss: 0.7574 - val_loss: 0.9035\n",
      "Epoch 83/100\n",
      "105/105 [==============================] - 0s 48us/step - loss: 0.7566 - val_loss: 0.9039\n",
      "Epoch 84/100\n",
      "105/105 [==============================] - 0s 48us/step - loss: 0.7560 - val_loss: 0.9017\n",
      "Epoch 85/100\n",
      "105/105 [==============================] - 0s 48us/step - loss: 0.7562 - val_loss: 0.8976\n",
      "Epoch 86/100\n",
      "105/105 [==============================] - 0s 47us/step - loss: 0.7570 - val_loss: 0.9006\n",
      "Epoch 87/100\n",
      "105/105 [==============================] - 0s 48us/step - loss: 0.7561 - val_loss: 0.8984\n",
      "Epoch 88/100\n",
      "105/105 [==============================] - 0s 48us/step - loss: 0.7574 - val_loss: 0.9031\n",
      "Epoch 89/100\n",
      "105/105 [==============================] - 0s 48us/step - loss: 0.7562 - val_loss: 0.9028\n",
      "Epoch 90/100\n",
      "105/105 [==============================] - 0s 48us/step - loss: 0.7565 - val_loss: 0.9080\n",
      "Epoch 91/100\n",
      "105/105 [==============================] - 0s 38us/step - loss: 0.7566 - val_loss: 0.9077\n",
      "Epoch 92/100\n",
      "105/105 [==============================] - 0s 48us/step - loss: 0.7569 - val_loss: 0.9066\n",
      "Epoch 93/100\n",
      "105/105 [==============================] - 0s 38us/step - loss: 0.7564 - val_loss: 0.9047\n",
      "Epoch 94/100\n",
      "105/105 [==============================] - 0s 47us/step - loss: 0.7564 - val_loss: 0.9008\n",
      "Epoch 95/100\n",
      "105/105 [==============================] - 0s 48us/step - loss: 0.7565 - val_loss: 0.9019\n",
      "Epoch 96/100\n",
      "105/105 [==============================] - 0s 48us/step - loss: 0.7560 - val_loss: 0.8997\n",
      "Epoch 97/100\n",
      "105/105 [==============================] - 0s 38us/step - loss: 0.7561 - val_loss: 0.9017\n",
      "Epoch 98/100\n",
      "105/105 [==============================] - 0s 48us/step - loss: 0.7558 - val_loss: 0.9033\n",
      "Epoch 99/100\n",
      "105/105 [==============================] - 0s 38us/step - loss: 0.7579 - val_loss: 0.9025\n",
      "Epoch 100/100\n",
      "105/105 [==============================] - 0s 48us/step - loss: 0.7561 - val_loss: 0.9030\n"
     ]
    }
   ],
   "source": [
    "#model.compile(loss='mean_squared_error',\n",
    "#              optimizer=tf.keras.optimizers.SGD(lr=0.01))\n",
    "\n",
    "model.compile(optimizer='sgd', loss='mse')\n",
    "history = model.fit(x_train, y_train, epochs=100, \n",
    "                    validation_split=0.3)"
   ]
  },
  {
   "cell_type": "code",
   "execution_count": 10,
   "metadata": {},
   "outputs": [
    {
     "data": {
      "image/png": "[encoded data removed]",
      "text/plain": [
       "<Figure size 432x288 with 1 Axes>"
      ]
     },
     "metadata": {
      "needs_background": "light"
     },
     "output_type": "display_data"
    }
   ],
   "source": [
    "plt.plot(epochs, history.history['loss'], label='Training loss')\n",
    "plt.plot(epochs, history.history['val_loss'], label='Validation loss') # validation loss\n",
    "plt.xlabel('Epochs')\n",
    "plt.ylabel('Loss')\n",
    "plt.legend()\n",
    "plt.show()"
   ]
  },
  {
   "cell_type": "markdown",
   "metadata": {},
   "source": [
    "### tf.keras 모델의 저장과 복원"
   ]
  },
  {
   "cell_type": "code",
   "execution_count": 11,
   "metadata": {},
   "outputs": [],
   "source": [
    "model.save_weights('simple_weights.h5')"
   ]
  },
  {
   "cell_type": "code",
   "execution_count": 12,
   "metadata": {},
   "outputs": [],
   "source": [
    "model = tf.keras.Sequential()\n",
    "model.add(tf.keras.layers.Dense(units=1, input_dim=1))\n",
    "model.compile(loss='mean_squared_error',\n",
    "              optimizer=tf.keras.optimizers.SGD(lr=0.01))\n",
    "\n",
    "model.load_weights('simple_weights.h5')"
   ]
  },
  {
   "cell_type": "code",
   "execution_count": 13,
   "metadata": {},
   "outputs": [
    {
     "name": "stdout",
     "output_type": "stream",
     "text": [
      "50/50 [==============================] - 0s 939us/step\n"
     ]
    },
    {
     "data": {
      "text/plain": [
       "0.9468259048461914"
      ]
     },
     "execution_count": 13,
     "metadata": {},
     "output_type": "execute_result"
    }
   ],
   "source": [
    "model.evaluate(x_test, y_test)"
   ]
  },
  {
   "cell_type": "code",
   "execution_count": 14,
   "metadata": {},
   "outputs": [],
   "source": [
    "model.save('simple_model.h5')"
   ]
  },
  {
   "cell_type": "code",
   "execution_count": 15,
   "metadata": {},
   "outputs": [
    {
     "name": "stdout",
     "output_type": "stream",
     "text": [
      "50/50 [==============================] - 0s 2ms/step\n"
     ]
    },
    {
     "data": {
      "text/plain": [
       "0.9468259048461914"
      ]
     },
     "execution_count": 15,
     "metadata": {},
     "output_type": "execute_result"
    }
   ],
   "source": [
    "model = tf.keras.models.load_model('simple_model.h5')\n",
    "model.evaluate(x_test, y_test)"
   ]
  },
  {
   "cell_type": "code",
   "execution_count": 16,
   "metadata": {},
   "outputs": [
    {
     "data": {
      "image/png": "[encoded data removed]",
      "text/plain": [
       "<Figure size 432x288 with 1 Axes>"
      ]
     },
     "metadata": {
      "needs_background": "light"
     },
     "output_type": "display_data"
    }
   ],
   "source": [
    "x_arr = np.arange(-2, 2, 0.1)\n",
    "y_arr = model.predict(x_arr)\n",
    "\n",
    "plt.figure()\n",
    "plt.plot(x_train, y_train, 'bo')\n",
    "plt.plot(x_test, y_test, 'bo', alpha=0.3)\n",
    "plt.plot(x_arr, y_arr, '-r', lw=3)\n",
    "plt.show()"
   ]
  }
 ],
 "metadata": {
  "kernelspec": {
   "display_name": "Python 3",
   "language": "python",
   "name": "python3"
  },
  "language_info": {
   "codemirror_mode": {
    "name": "ipython",
    "version": 3
   },
   "file_extension": ".py",
   "mimetype": "text/x-python",
   "name": "python",
   "nbconvert_exporter": "python",
   "pygments_lexer": "ipython3",
   "version": "3.6.9"
  }
 },
 "nbformat": 4,
 "nbformat_minor": 2
}
