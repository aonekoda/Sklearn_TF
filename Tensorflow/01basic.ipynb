{
 "cells": [
  {
   "cell_type": "markdown",
   "metadata": {},
   "source": [
    "# 텐서플로 학습 방법\n",
    "다음 개념에 중점을 두고 텐서플로우 프로그래밍 모델의 기본 사항을 배운다.\n",
    "* 텐서\n",
    "* 연산\n",
    "* 그래프\n",
    "* 세션\n",
    "* 기본 그래프를 만드는 간단한 텐서플로우 프로그램 만들기 및 그래프를 실행하는 세션\n",
    "\n",
    "**텐서**  \n",
    "* 텐서플로는 노드 집합으로 구성된 계산 그래프를 바탕으로 한다. 계산 그래프의 edge를 따라 이용하는 값을 tensor라고 한다. \n",
    "* 텐서는 scalar, 벡터, 행렬 등을 일반화 한 것이다. 구체적으로 scalar는 랭크(rank, tensor차원) 0인 텐서이다. \n",
    "* 텐서플로에서는 계산 그래프가 구성된 후 session 을 통해서 그래프에 있는 각 노드를 실행한다. \n",
    "\n",
    "**그래프**\n",
    "* 텐서플로우 그래프(또는 산출 그래프나 데이터플로 그래프)는 그래프 데이터 구조\n",
    "* 그래프의 노드는 연산이고; 그래프의 엣지는 텐서이다. 텐서는 그래프를 따라 흐르고, 각 노드에서 연산에 의해 조작된다. 한 연산의 출력 텐서는 보통 다음 연산의 입력 텐서가 된다.\n",
    "\n",
    "**상수, 변수**\n",
    "* 텐서는 그래프에서 상수 또는 변수로 저장될 수 있다. 상수는 값이 변하지 않는 텐서를 가지고, 변수는 값이 변할 수 있는 텐서를 가진다. \n",
    "\n",
    "**세션**\n",
    "* 그래프는 텐서플로우 세션 내에서 실행된다. 세션은 실행하는 그래프의 상태를 가진다."
   ]
  },
  {
   "cell_type": "code",
   "execution_count": 1,
   "metadata": {},
   "outputs": [],
   "source": [
    "import tensorflow as tf"
   ]
  },
  {
   "cell_type": "markdown",
   "metadata": {},
   "source": [
    "다음은 z = wx + b 라는 식을 계산하는 코드이다."
   ]
  },
  {
   "cell_type": "code",
   "execution_count": 2,
   "metadata": {},
   "outputs": [
    {
     "name": "stdout",
     "output_type": "stream",
     "text": [
      "x= 1.0 --> z= 2.7\n",
      "x= 0.6 --> z= 1.9\n",
      "x=-1.8 --> z=-2.9\n"
     ]
    }
   ],
   "source": [
    "## 그래프를 생성합니다\n",
    "g = tf.Graph()\n",
    "with g.as_default():\n",
    "    x = tf.placeholder(dtype=tf.float32,\n",
    "                       shape=(None), name='x')\n",
    "    w = tf.Variable(2.0, name='weight')\n",
    "    b = tf.Variable(0.7, name='bias')\n",
    "\n",
    "    z = w*x + b\n",
    "    init = tf.global_variables_initializer()\n",
    "\n",
    "## 세션을 만들고 그래프 g를 전달합니다\n",
    "with tf.Session(graph=g) as sess:\n",
    "    ## w와 b를 초기화합니다.\n",
    "    sess.run(init)\n",
    "    ## z를 평가합니다.\n",
    "    for t in [1.0, 0.6, -1.8]:\n",
    "        print('x=%4.1f --> z=%4.1f'%(\n",
    "              t, sess.run(z, feed_dict={x:t})))"
   ]
  },
  {
   "cell_type": "markdown",
   "metadata": {},
   "source": [
    "입력 데이터를 위해 **placeholder(플레이스 홀더)** 를 정의한다. 그리고 가중치 행렬을 정의하고 입력에서 출력으로 연결된 **모형을 생성**한다. 최적화를 위해서 **손실 함수 또는 비용함수를 정의하고 어떤 최적화 알고리즘**을 사용할 지 결정한다. 그 다음 **세션을 만들고 변수를 초기화** 한다. shape=(None)로 placeholder x를 만들었다. 입력 데이터 크기를 지정하지 않았으므로 한번에 전체 데이터를 전달하여 하나씩 **모델에 주입**할 수 있다. "
   ]
  },
  {
   "cell_type": "code",
   "execution_count": 3,
   "metadata": {},
   "outputs": [
    {
     "name": "stdout",
     "output_type": "stream",
     "text": [
      "[2.7 4.7 6.7]\n"
     ]
    }
   ],
   "source": [
    "with tf.Session(graph=g) as sess:\n",
    "    sess.run(init)\n",
    "    print(sess.run(z, feed_dict={x:[1., 2., 3.]})) "
   ]
  },
  {
   "cell_type": "markdown",
   "metadata": {},
   "source": [
    "텐서플로에서는 **그래프 정의 단계와 실행 단계가 나뉘어** 있다. 필요한 데이터가 있다면 **feed_dict** 를 통해서 placeholder에 데이터를 주입해야 한다."
   ]
  },
  {
   "cell_type": "code",
   "execution_count": 4,
   "metadata": {},
   "outputs": [
    {
     "name": "stdout",
     "output_type": "stream",
     "text": [
      "Tensor(\"add:0\", dtype=float32)\n"
     ]
    }
   ],
   "source": [
    "print(z)"
   ]
  },
  {
   "cell_type": "markdown",
   "metadata": {},
   "source": [
    "\"add:0\"은 z가 덧셈 연산의 첫번째 출력이라는 것이다. 텐서z에 실제 값이 들어 있지 않고 session을 열어 텐서z를 평가해야 값을 얻을 수 있다. "
   ]
  }
 ],
 "metadata": {
  "kernelspec": {
   "display_name": "Python 3",
   "language": "python",
   "name": "python3"
  },
  "language_info": {
   "codemirror_mode": {
    "name": "ipython",
    "version": 3
   },
   "file_extension": ".py",
   "mimetype": "text/x-python",
   "name": "python",
   "nbconvert_exporter": "python",
   "pygments_lexer": "ipython3",
   "version": "3.6.9"
  }
 },
 "nbformat": 4,
 "nbformat_minor": 2
}
