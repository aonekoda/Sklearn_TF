{
 "cells": [
  {
   "attachments": {},
   "cell_type": "markdown",
   "metadata": {},
   "source": [
    "# PCA, Principal Component Analysis - 주성분 분석\n",
    "고차원 데이터 집합이 주어졌을 때 원래의 고차원 데이터와 가장 비슷하면서 더 낮은 차원 데이터를 찾아내는 방법이다. **차원축소(dimension reduction)** 라고도 한다.  \n",
    "더 낮은 차원의 데이터값 변화가 더 높은 차원의 데이터값 변화를 설명할 수 있다는 것은 얼핏 보기에 복잡해 보이는 **고차원 데이터의 변이를 몇 가지 원인으로 설명할 수 있다**는 뜻이다.\n",
    "\n",
    "입력 차원이 너무 커서 학습이 진행이 잘 되지 않을때, 학습 데이터의 차원을 줄이는 방법으로 PCA를 사용할 수 있다.\n",
    " \n",
    "PCA의 또 다른 이용 방법은 고차원 데이터의 차원을 줄여 시각화 할 때도 유용하게 사용된다."
   ]
  },
  {
   "cell_type": "code",
   "execution_count": 14,
   "metadata": {},
   "outputs": [],
   "source": [
    "from sklearn import datasets\n",
    "import matplotlib.pyplot as plt\n",
    "import pandas as pd\n",
    "import seaborn as sns\n",
    "%matplotlib inline\n",
    "\n",
    "iris = datasets.load_iris()\n",
    "X = iris.data[:, :2]"
   ]
  },
  {
   "cell_type": "code",
   "execution_count": 15,
   "metadata": {},
   "outputs": [
    {
     "data": {
      "image/png": "[encoded data removed]",
      "text/plain": [
       "<Figure size 504x504 with 1 Axes>"
      ]
     },
     "metadata": {
      "needs_background": "light"
     },
     "output_type": "display_data"
    }
   ],
   "source": [
    "from sklearn.decomposition import PCA\n",
    "\n",
    "pca1 = PCA(n_components=1)\n",
    "X_low = pca1.fit_transform(X)\n",
    "X2 = pca1.inverse_transform(X_low)\n",
    "\n",
    "plt.figure(figsize=(7, 7))\n",
    "ax = sns.scatterplot(0, 1, data=pd.DataFrame(X), s=100, color=\".2\", marker=\"s\")\n",
    "\n",
    "plt.plot(X2[:, 0], X2[:, 1], \"o-\", markersize=10)\n",
    "plt.plot(X[:, 0].mean(), X[:, 1].mean(), markersize=10, marker=\"D\")\n",
    "\n",
    "plt.xlabel(\"Sepal Length\")\n",
    "plt.ylabel(\"Sepal Width\")\n",
    "plt.title(\"Iris data PCA\")\n",
    "plt.axis(\"equal\")\n",
    "plt.show()"
   ]
  },
  {
   "cell_type": "code",
   "execution_count": 16,
   "metadata": {},
   "outputs": [
    {
     "data": {
      "text/plain": [
       "array([5.84333333, 3.05733333])"
      ]
     },
     "execution_count": 16,
     "metadata": {},
     "output_type": "execute_result"
    }
   ],
   "source": [
    "#데이터의 평균값은 mean_ 속성으로 볼 수 있다.\n",
    "pca1.mean_"
   ]
  },
  {
   "cell_type": "code",
   "execution_count": 17,
   "metadata": {},
   "outputs": [
    {
     "data": {
      "text/plain": [
       "array([[ 0.99640834, -0.08467831]])"
      ]
     },
     "execution_count": 17,
     "metadata": {},
     "output_type": "execute_result"
    }
   ],
   "source": [
    "# 근사 데이터를 만드는 단위기저벡터는 components_ 속성에서 구할 수 있다.\n",
    "pca1.components_"
   ]
  },
  {
   "cell_type": "code",
   "execution_count": 21,
   "metadata": {},
   "outputs": [
    {
     "data": {
      "text/plain": [
       "(array([5.1, 3.5]), array([-0.7781478]), array([5.06798038, 3.12322557]))"
      ]
     },
     "execution_count": 21,
     "metadata": {},
     "output_type": "execute_result"
    }
   ],
   "source": [
    "# 0번꽃, 주성분으로 계산된값, 주성분 벡터로 복원된 값\n",
    "X[0,:], X_low[0], X2[0,:]"
   ]
  },
  {
   "cell_type": "code",
   "execution_count": null,
   "metadata": {},
   "outputs": [],
   "source": [
    "https://datascienceschool.net/view-notebook/f10aad8a34a4489697933f77c5d58e3a/"
   ]
  }
 ],
 "metadata": {
  "kernelspec": {
   "display_name": "Python 3",
   "language": "python",
   "name": "python3"
  },
  "language_info": {
   "codemirror_mode": {
    "name": "ipython",
    "version": 3
   },
   "file_extension": ".py",
   "mimetype": "text/x-python",
   "name": "python",
   "nbconvert_exporter": "python",
   "pygments_lexer": "ipython3",
   "version": "3.6.9"
  }
 },
 "nbformat": 4,
 "nbformat_minor": 2
}
