{
 "cells": [
  {
   "cell_type": "markdown",
   "metadata": {},
   "source": [
    "# 군집 실습\n",
    "\n",
    "다음의 데이터는 1973년 미국에서 수집된 통계로 인구 100,000명당 범죄로 체포된 사람과 관련된 자료이다.\n",
    "\n",
    "A data frame with 50 observations on 4 variables.\n",
    "\n",
    "* **Murder** numeric Murder arrests (per 100,000)\n",
    "* **Assault** numeric Assault arrests (per 100,000)\n",
    "* **UrbanPop** numeric Percent urban population\n",
    "* **Rape** numeric Rape arrests (per 100,000)\n",
    "\n",
    "이 데이터셋을 사용하여 군집 방법 - kmeans, hierarchical, DBSCAN를 사용하여 군집 분석을 하시오.  \n",
    "\n",
    "데이터 스케일을 "
   ]
  },
  {
   "cell_type": "code",
   "execution_count": 1,
   "metadata": {},
   "outputs": [],
   "source": [
    "import numpy as np\n",
    "import pandas as pd\n",
    "import matplotlib.pyplot as plt\n",
    "import seaborn as sns\n",
    "\n",
    "%matplotlib inline\n"
   ]
  },
  {
   "cell_type": "code",
   "execution_count": 2,
   "metadata": {},
   "outputs": [
    {
     "name": "stdout",
     "output_type": "stream",
     "text": [
      "<class 'pandas.core.frame.DataFrame'>\n",
      "RangeIndex: 50 entries, 0 to 49\n",
      "Data columns (total 5 columns):\n",
      "Name        50 non-null object\n",
      "Murder      50 non-null float64\n",
      "Assault     50 non-null int64\n",
      "UrbanPop    50 non-null int64\n",
      "Rape        50 non-null float64\n",
      "dtypes: float64(2), int64(2), object(1)\n",
      "memory usage: 2.1+ KB\n"
     ]
    },
    {
     "data": {
      "text/html": [
       "<div>\n",
       "<style scoped>\n",
       "    .dataframe tbody tr th:only-of-type {\n",
       "        vertical-align: middle;\n",
       "    }\n",
       "\n",
       "    .dataframe tbody tr th {\n",
       "        vertical-align: top;\n",
       "    }\n",
       "\n",
       "    .dataframe thead th {\n",
       "        text-align: right;\n",
       "    }\n",
       "</style>\n",
       "<table border=\"1\" class=\"dataframe\">\n",
       "  <thead>\n",
       "    <tr style=\"text-align: right;\">\n",
       "      <th></th>\n",
       "      <th>Name</th>\n",
       "      <th>Murder</th>\n",
       "      <th>Assault</th>\n",
       "      <th>UrbanPop</th>\n",
       "      <th>Rape</th>\n",
       "    </tr>\n",
       "  </thead>\n",
       "  <tbody>\n",
       "    <tr>\n",
       "      <td>0</td>\n",
       "      <td>Alabama</td>\n",
       "      <td>13.2</td>\n",
       "      <td>236</td>\n",
       "      <td>58</td>\n",
       "      <td>21.2</td>\n",
       "    </tr>\n",
       "    <tr>\n",
       "      <td>1</td>\n",
       "      <td>Alaska</td>\n",
       "      <td>10.0</td>\n",
       "      <td>263</td>\n",
       "      <td>48</td>\n",
       "      <td>44.5</td>\n",
       "    </tr>\n",
       "    <tr>\n",
       "      <td>2</td>\n",
       "      <td>Arizona</td>\n",
       "      <td>8.1</td>\n",
       "      <td>294</td>\n",
       "      <td>80</td>\n",
       "      <td>31.0</td>\n",
       "    </tr>\n",
       "    <tr>\n",
       "      <td>3</td>\n",
       "      <td>Arkansas</td>\n",
       "      <td>8.8</td>\n",
       "      <td>190</td>\n",
       "      <td>50</td>\n",
       "      <td>19.5</td>\n",
       "    </tr>\n",
       "    <tr>\n",
       "      <td>4</td>\n",
       "      <td>California</td>\n",
       "      <td>9.0</td>\n",
       "      <td>276</td>\n",
       "      <td>91</td>\n",
       "      <td>40.6</td>\n",
       "    </tr>\n",
       "  </tbody>\n",
       "</table>\n",
       "</div>"
      ],
      "text/plain": [
       "         Name  Murder  Assault  UrbanPop  Rape\n",
       "0     Alabama    13.2      236        58  21.2\n",
       "1      Alaska    10.0      263        48  44.5\n",
       "2     Arizona     8.1      294        80  31.0\n",
       "3    Arkansas     8.8      190        50  19.5\n",
       "4  California     9.0      276        91  40.6"
      ]
     },
     "execution_count": 2,
     "metadata": {},
     "output_type": "execute_result"
    }
   ],
   "source": [
    "arrests = pd.read_csv('../../data/USArrests.csv')\n",
    "\n",
    "arrests.info()\n",
    "arrests.head()"
   ]
  }
 ],
 "metadata": {
  "kernelspec": {
   "display_name": "Python 3",
   "language": "python",
   "name": "python3"
  },
  "language_info": {
   "codemirror_mode": {
    "name": "ipython",
    "version": 3
   },
   "file_extension": ".py",
   "mimetype": "text/x-python",
   "name": "python",
   "nbconvert_exporter": "python",
   "pygments_lexer": "ipython3",
   "version": "3.6.9"
  }
 },
 "nbformat": 4,
 "nbformat_minor": 2
}
